{
 "cells": [
  {
   "cell_type": "code",
   "execution_count": 1,
   "outputs": [
    {
     "data": {
      "text/plain": "   campaign_id      fuzzer subject defect                   time\n0           10        Zest    Bcel     B0 0 days 00:42:48.816000\n1          100  Zeugma-1PT   Rhino     R0 0 days 01:34:51.614000\n2          100  Zeugma-1PT   Rhino     R1 0 days 00:44:59.002000\n3          100  Zeugma-1PT   Rhino     R2 0 days 00:49:16.492000\n4          100  Zeugma-1PT   Rhino     R3 0 days 00:00:13.996000",
      "text/html": "<div>\n<style scoped>\n    .dataframe tbody tr th:only-of-type {\n        vertical-align: middle;\n    }\n\n    .dataframe tbody tr th {\n        vertical-align: top;\n    }\n\n    .dataframe thead th {\n        text-align: right;\n    }\n</style>\n<table border=\"1\" class=\"dataframe\">\n  <thead>\n    <tr style=\"text-align: right;\">\n      <th></th>\n      <th>campaign_id</th>\n      <th>fuzzer</th>\n      <th>subject</th>\n      <th>defect</th>\n      <th>time</th>\n    </tr>\n  </thead>\n  <tbody>\n    <tr>\n      <th>0</th>\n      <td>10</td>\n      <td>Zest</td>\n      <td>Bcel</td>\n      <td>B0</td>\n      <td>0 days 00:42:48.816000</td>\n    </tr>\n    <tr>\n      <th>1</th>\n      <td>100</td>\n      <td>Zeugma-1PT</td>\n      <td>Rhino</td>\n      <td>R0</td>\n      <td>0 days 01:34:51.614000</td>\n    </tr>\n    <tr>\n      <th>2</th>\n      <td>100</td>\n      <td>Zeugma-1PT</td>\n      <td>Rhino</td>\n      <td>R1</td>\n      <td>0 days 00:44:59.002000</td>\n    </tr>\n    <tr>\n      <th>3</th>\n      <td>100</td>\n      <td>Zeugma-1PT</td>\n      <td>Rhino</td>\n      <td>R2</td>\n      <td>0 days 00:49:16.492000</td>\n    </tr>\n    <tr>\n      <th>4</th>\n      <td>100</td>\n      <td>Zeugma-1PT</td>\n      <td>Rhino</td>\n      <td>R3</td>\n      <td>0 days 00:00:13.996000</td>\n    </tr>\n  </tbody>\n</table>\n</div>"
     },
     "execution_count": 1,
     "metadata": {},
     "output_type": "execute_result"
    }
   ],
   "source": [
    "import pandas as pd\n",
    "\n",
    "import tables\n",
    "\n",
    "times = [pd.to_timedelta(5, 'm'), pd.to_timedelta(3, 'h')]\n",
    "df = pd.read_csv('../data/first_detection_times.csv')\n",
    "df['time'] = pd.to_timedelta(df['time'])\n",
    "df.head()"
   ],
   "metadata": {
    "collapsed": false,
    "ExecuteTime": {
     "end_time": "2023-07-03T18:07:44.389796165Z",
     "start_time": "2023-07-03T18:07:43.442428361Z"
    }
   }
  },
  {
   "cell_type": "code",
   "execution_count": 2,
   "outputs": [
    {
     "data": {
      "text/plain": "      campaign_id      fuzzer  subject defect            time  detected\n0              10        Zest     Bcel     B0 0 days 00:05:00     False\n1             100  Zeugma-1PT    Rhino     R0 0 days 00:05:00     False\n2             100  Zeugma-1PT    Rhino     R1 0 days 00:05:00     False\n3             100  Zeugma-1PT    Rhino     R2 0 days 00:05:00     False\n4             100  Zeugma-1PT    Rhino     R3 0 days 00:05:00      True\n...           ...         ...      ...    ...             ...       ...\n1875          643  Zeugma-2PT  Nashorn     N2 0 days 03:00:00     False\n1876          643  Zeugma-2PT  Nashorn     N1 0 days 03:00:00     False\n1877          532  Zeugma-1PT  Nashorn     N0 0 days 03:00:00     False\n1878          532  Zeugma-1PT  Nashorn     N2 0 days 03:00:00     False\n1879          532  Zeugma-1PT  Nashorn     N1 0 days 03:00:00     False\n\n[3760 rows x 6 columns]",
      "text/html": "<div>\n<style scoped>\n    .dataframe tbody tr th:only-of-type {\n        vertical-align: middle;\n    }\n\n    .dataframe tbody tr th {\n        vertical-align: top;\n    }\n\n    .dataframe thead th {\n        text-align: right;\n    }\n</style>\n<table border=\"1\" class=\"dataframe\">\n  <thead>\n    <tr style=\"text-align: right;\">\n      <th></th>\n      <th>campaign_id</th>\n      <th>fuzzer</th>\n      <th>subject</th>\n      <th>defect</th>\n      <th>time</th>\n      <th>detected</th>\n    </tr>\n  </thead>\n  <tbody>\n    <tr>\n      <th>0</th>\n      <td>10</td>\n      <td>Zest</td>\n      <td>Bcel</td>\n      <td>B0</td>\n      <td>0 days 00:05:00</td>\n      <td>False</td>\n    </tr>\n    <tr>\n      <th>1</th>\n      <td>100</td>\n      <td>Zeugma-1PT</td>\n      <td>Rhino</td>\n      <td>R0</td>\n      <td>0 days 00:05:00</td>\n      <td>False</td>\n    </tr>\n    <tr>\n      <th>2</th>\n      <td>100</td>\n      <td>Zeugma-1PT</td>\n      <td>Rhino</td>\n      <td>R1</td>\n      <td>0 days 00:05:00</td>\n      <td>False</td>\n    </tr>\n    <tr>\n      <th>3</th>\n      <td>100</td>\n      <td>Zeugma-1PT</td>\n      <td>Rhino</td>\n      <td>R2</td>\n      <td>0 days 00:05:00</td>\n      <td>False</td>\n    </tr>\n    <tr>\n      <th>4</th>\n      <td>100</td>\n      <td>Zeugma-1PT</td>\n      <td>Rhino</td>\n      <td>R3</td>\n      <td>0 days 00:05:00</td>\n      <td>True</td>\n    </tr>\n    <tr>\n      <th>...</th>\n      <td>...</td>\n      <td>...</td>\n      <td>...</td>\n      <td>...</td>\n      <td>...</td>\n      <td>...</td>\n    </tr>\n    <tr>\n      <th>1875</th>\n      <td>643</td>\n      <td>Zeugma-2PT</td>\n      <td>Nashorn</td>\n      <td>N2</td>\n      <td>0 days 03:00:00</td>\n      <td>False</td>\n    </tr>\n    <tr>\n      <th>1876</th>\n      <td>643</td>\n      <td>Zeugma-2PT</td>\n      <td>Nashorn</td>\n      <td>N1</td>\n      <td>0 days 03:00:00</td>\n      <td>False</td>\n    </tr>\n    <tr>\n      <th>1877</th>\n      <td>532</td>\n      <td>Zeugma-1PT</td>\n      <td>Nashorn</td>\n      <td>N0</td>\n      <td>0 days 03:00:00</td>\n      <td>False</td>\n    </tr>\n    <tr>\n      <th>1878</th>\n      <td>532</td>\n      <td>Zeugma-1PT</td>\n      <td>Nashorn</td>\n      <td>N2</td>\n      <td>0 days 03:00:00</td>\n      <td>False</td>\n    </tr>\n    <tr>\n      <th>1879</th>\n      <td>532</td>\n      <td>Zeugma-1PT</td>\n      <td>Nashorn</td>\n      <td>N1</td>\n      <td>0 days 03:00:00</td>\n      <td>False</td>\n    </tr>\n  </tbody>\n</table>\n<p>3760 rows × 6 columns</p>\n</div>"
     },
     "metadata": {},
     "output_type": "display_data"
    }
   ],
   "source": [
    "def create_detection_table(df, times):\n",
    "    elements = []\n",
    "    for time in times:\n",
    "        temp = df.copy()\n",
    "        temp['detected'] = temp['time'] < time\n",
    "        temp['time'] = time\n",
    "        elements.append(temp)\n",
    "    return pd.concat(elements)\n",
    "\n",
    "\n",
    "detecting = create_detection_table(df, times)\n",
    "display(detecting)"
   ],
   "metadata": {
    "collapsed": false,
    "ExecuteTime": {
     "end_time": "2023-07-03T18:07:44.390217532Z",
     "start_time": "2023-07-03T18:07:44.365154443Z"
    }
   }
  },
  {
   "cell_type": "code",
   "execution_count": 3,
   "outputs": [
    {
     "data": {
      "text/plain": "<pandas.io.formats.style.Styler at 0x7f3417fb5450>",
      "text/html": "<style type=\"text/css\">\n#T_74cd8_row0_col2, #T_74cd8_row0_col7, #T_74cd8_row0_col10, #T_74cd8_row0_col12, #T_74cd8_row0_col14, #T_74cd8_row0_col18, #T_74cd8_row0_col20, #T_74cd8_row0_col21, #T_74cd8_row0_col22, #T_74cd8_row1_col2, #T_74cd8_row1_col7, #T_74cd8_row1_col10, #T_74cd8_row1_col12, #T_74cd8_row1_col14, #T_74cd8_row1_col16, #T_74cd8_row1_col18, #T_74cd8_row1_col20, #T_74cd8_row1_col21, #T_74cd8_row1_col22, #T_74cd8_row2_col7, #T_74cd8_row2_col10, #T_74cd8_row2_col12, #T_74cd8_row2_col14, #T_74cd8_row2_col18, #T_74cd8_row2_col20, #T_74cd8_row2_col21, #T_74cd8_row2_col22, #T_74cd8_row3_col1, #T_74cd8_row3_col2, #T_74cd8_row3_col7, #T_74cd8_row3_col10, #T_74cd8_row3_col12, #T_74cd8_row3_col14, #T_74cd8_row3_col17, #T_74cd8_row3_col18, #T_74cd8_row3_col20, #T_74cd8_row3_col21, #T_74cd8_row3_col22, #T_74cd8_row4_col1, #T_74cd8_row4_col2, #T_74cd8_row4_col4, #T_74cd8_row4_col7, #T_74cd8_row4_col10, #T_74cd8_row4_col12, #T_74cd8_row4_col14, #T_74cd8_row4_col18, #T_74cd8_row4_col19, #T_74cd8_row4_col20, #T_74cd8_row4_col21, #T_74cd8_row4_col22, #T_74cd8_row5_col1, #T_74cd8_row5_col2, #T_74cd8_row5_col3, #T_74cd8_row5_col7, #T_74cd8_row5_col10, #T_74cd8_row5_col12, #T_74cd8_row5_col14, #T_74cd8_row5_col18, #T_74cd8_row5_col20, #T_74cd8_row5_col21, #T_74cd8_row5_col22, #T_74cd8_row6_col0, #T_74cd8_row6_col1, #T_74cd8_row6_col2, #T_74cd8_row6_col3, #T_74cd8_row6_col6, #T_74cd8_row6_col7, #T_74cd8_row6_col10, #T_74cd8_row6_col11, #T_74cd8_row6_col12, #T_74cd8_row6_col14, #T_74cd8_row6_col18, #T_74cd8_row6_col20, #T_74cd8_row6_col21, #T_74cd8_row6_col22, #T_74cd8_row7_col0, #T_74cd8_row7_col1, #T_74cd8_row7_col2, #T_74cd8_row7_col5, #T_74cd8_row7_col7, #T_74cd8_row7_col8, #T_74cd8_row7_col9, #T_74cd8_row7_col10, #T_74cd8_row7_col12, #T_74cd8_row7_col13, #T_74cd8_row7_col14, #T_74cd8_row7_col15, #T_74cd8_row7_col18, #T_74cd8_row7_col20, #T_74cd8_row7_col21, #T_74cd8_row7_col22, #T_74cd8_row7_col23 {\n  background-color: yellow;\n}\n#T_74cd8_row0_col5, #T_74cd8_row0_col9, #T_74cd8_row0_col13, #T_74cd8_row0_col15, #T_74cd8_row0_col19, #T_74cd8_row0_col23, #T_74cd8_row1_col6, #T_74cd8_row1_col9, #T_74cd8_row1_col13, #T_74cd8_row1_col15, #T_74cd8_row1_col19, #T_74cd8_row1_col23, #T_74cd8_row2_col5, #T_74cd8_row2_col9, #T_74cd8_row2_col13, #T_74cd8_row2_col15, #T_74cd8_row2_col17, #T_74cd8_row2_col19, #T_74cd8_row2_col23, #T_74cd8_row3_col9, #T_74cd8_row3_col13, #T_74cd8_row3_col15, #T_74cd8_row3_col19, #T_74cd8_row3_col23, #T_74cd8_row5_col9, #T_74cd8_row5_col13, #T_74cd8_row6_col9 {\n  color: red;\n}\n</style>\n<table id=\"T_74cd8\">\n  <thead>\n    <tr>\n      <th class=\"index_name level0\" >Defect</th>\n      <th id=\"T_74cd8_level0_col0\" class=\"col_heading level0 col0\" colspan=\"2\">B0</th>\n      <th id=\"T_74cd8_level0_col2\" class=\"col_heading level0 col2\" colspan=\"2\">B1</th>\n      <th id=\"T_74cd8_level0_col4\" class=\"col_heading level0 col4\" colspan=\"2\">C0</th>\n      <th id=\"T_74cd8_level0_col6\" class=\"col_heading level0 col6\" colspan=\"2\">C1</th>\n      <th id=\"T_74cd8_level0_col8\" class=\"col_heading level0 col8\" colspan=\"2\">N0</th>\n      <th id=\"T_74cd8_level0_col10\" class=\"col_heading level0 col10\" colspan=\"2\">N1</th>\n      <th id=\"T_74cd8_level0_col12\" class=\"col_heading level0 col12\" colspan=\"2\">N2</th>\n      <th id=\"T_74cd8_level0_col14\" class=\"col_heading level0 col14\" colspan=\"2\">R0</th>\n      <th id=\"T_74cd8_level0_col16\" class=\"col_heading level0 col16\" colspan=\"2\">R1</th>\n      <th id=\"T_74cd8_level0_col18\" class=\"col_heading level0 col18\" colspan=\"2\">R2</th>\n      <th id=\"T_74cd8_level0_col20\" class=\"col_heading level0 col20\" colspan=\"2\">R3</th>\n      <th id=\"T_74cd8_level0_col22\" class=\"col_heading level0 col22\" colspan=\"2\">R4</th>\n    </tr>\n    <tr>\n      <th class=\"blank level1\" >&nbsp;</th>\n      <th id=\"T_74cd8_level1_col0\" class=\"col_heading level1 col0\" >5M</th>\n      <th id=\"T_74cd8_level1_col1\" class=\"col_heading level1 col1\" >3H</th>\n      <th id=\"T_74cd8_level1_col2\" class=\"col_heading level1 col2\" >5M</th>\n      <th id=\"T_74cd8_level1_col3\" class=\"col_heading level1 col3\" >3H</th>\n      <th id=\"T_74cd8_level1_col4\" class=\"col_heading level1 col4\" >5M</th>\n      <th id=\"T_74cd8_level1_col5\" class=\"col_heading level1 col5\" >3H</th>\n      <th id=\"T_74cd8_level1_col6\" class=\"col_heading level1 col6\" >5M</th>\n      <th id=\"T_74cd8_level1_col7\" class=\"col_heading level1 col7\" >3H</th>\n      <th id=\"T_74cd8_level1_col8\" class=\"col_heading level1 col8\" >5M</th>\n      <th id=\"T_74cd8_level1_col9\" class=\"col_heading level1 col9\" >3H</th>\n      <th id=\"T_74cd8_level1_col10\" class=\"col_heading level1 col10\" >5M</th>\n      <th id=\"T_74cd8_level1_col11\" class=\"col_heading level1 col11\" >3H</th>\n      <th id=\"T_74cd8_level1_col12\" class=\"col_heading level1 col12\" >5M</th>\n      <th id=\"T_74cd8_level1_col13\" class=\"col_heading level1 col13\" >3H</th>\n      <th id=\"T_74cd8_level1_col14\" class=\"col_heading level1 col14\" >5M</th>\n      <th id=\"T_74cd8_level1_col15\" class=\"col_heading level1 col15\" >3H</th>\n      <th id=\"T_74cd8_level1_col16\" class=\"col_heading level1 col16\" >5M</th>\n      <th id=\"T_74cd8_level1_col17\" class=\"col_heading level1 col17\" >3H</th>\n      <th id=\"T_74cd8_level1_col18\" class=\"col_heading level1 col18\" >5M</th>\n      <th id=\"T_74cd8_level1_col19\" class=\"col_heading level1 col19\" >3H</th>\n      <th id=\"T_74cd8_level1_col20\" class=\"col_heading level1 col20\" >5M</th>\n      <th id=\"T_74cd8_level1_col21\" class=\"col_heading level1 col21\" >3H</th>\n      <th id=\"T_74cd8_level1_col22\" class=\"col_heading level1 col22\" >5M</th>\n      <th id=\"T_74cd8_level1_col23\" class=\"col_heading level1 col23\" >3H</th>\n    </tr>\n    <tr>\n      <th class=\"index_name level0\" >Fuzzer</th>\n      <th class=\"blank col0\" >&nbsp;</th>\n      <th class=\"blank col1\" >&nbsp;</th>\n      <th class=\"blank col2\" >&nbsp;</th>\n      <th class=\"blank col3\" >&nbsp;</th>\n      <th class=\"blank col4\" >&nbsp;</th>\n      <th class=\"blank col5\" >&nbsp;</th>\n      <th class=\"blank col6\" >&nbsp;</th>\n      <th class=\"blank col7\" >&nbsp;</th>\n      <th class=\"blank col8\" >&nbsp;</th>\n      <th class=\"blank col9\" >&nbsp;</th>\n      <th class=\"blank col10\" >&nbsp;</th>\n      <th class=\"blank col11\" >&nbsp;</th>\n      <th class=\"blank col12\" >&nbsp;</th>\n      <th class=\"blank col13\" >&nbsp;</th>\n      <th class=\"blank col14\" >&nbsp;</th>\n      <th class=\"blank col15\" >&nbsp;</th>\n      <th class=\"blank col16\" >&nbsp;</th>\n      <th class=\"blank col17\" >&nbsp;</th>\n      <th class=\"blank col18\" >&nbsp;</th>\n      <th class=\"blank col19\" >&nbsp;</th>\n      <th class=\"blank col20\" >&nbsp;</th>\n      <th class=\"blank col21\" >&nbsp;</th>\n      <th class=\"blank col22\" >&nbsp;</th>\n      <th class=\"blank col23\" >&nbsp;</th>\n    </tr>\n  </thead>\n  <tbody>\n    <tr>\n      <th id=\"T_74cd8_level0_row0\" class=\"row_heading level0 row0\" >BeDivFuzz-Simple</th>\n      <td id=\"T_74cd8_row0_col0\" class=\"data row0 col0\" >0.00</td>\n      <td id=\"T_74cd8_row0_col1\" class=\"data row0 col1\" >0.65</td>\n      <td id=\"T_74cd8_row0_col2\" class=\"data row0 col2\" >0.00</td>\n      <td id=\"T_74cd8_row0_col3\" class=\"data row0 col3\" >0.00</td>\n      <td id=\"T_74cd8_row0_col4\" class=\"data row0 col4\" >0.00</td>\n      <td id=\"T_74cd8_row0_col5\" class=\"data row0 col5\" >0.05</td>\n      <td id=\"T_74cd8_row0_col6\" class=\"data row0 col6\" >0.15</td>\n      <td id=\"T_74cd8_row0_col7\" class=\"data row0 col7\" >1.00</td>\n      <td id=\"T_74cd8_row0_col8\" class=\"data row0 col8\" >0.00</td>\n      <td id=\"T_74cd8_row0_col9\" class=\"data row0 col9\" >0.00</td>\n      <td id=\"T_74cd8_row0_col10\" class=\"data row0 col10\" >0.00</td>\n      <td id=\"T_74cd8_row0_col11\" class=\"data row0 col11\" >0.00</td>\n      <td id=\"T_74cd8_row0_col12\" class=\"data row0 col12\" >0.00</td>\n      <td id=\"T_74cd8_row0_col13\" class=\"data row0 col13\" >0.00</td>\n      <td id=\"T_74cd8_row0_col14\" class=\"data row0 col14\" >0.00</td>\n      <td id=\"T_74cd8_row0_col15\" class=\"data row0 col15\" >0.00</td>\n      <td id=\"T_74cd8_row0_col16\" class=\"data row0 col16\" >0.05</td>\n      <td id=\"T_74cd8_row0_col17\" class=\"data row0 col17\" >0.45</td>\n      <td id=\"T_74cd8_row0_col18\" class=\"data row0 col18\" >0.00</td>\n      <td id=\"T_74cd8_row0_col19\" class=\"data row0 col19\" >0.00</td>\n      <td id=\"T_74cd8_row0_col20\" class=\"data row0 col20\" >1.00</td>\n      <td id=\"T_74cd8_row0_col21\" class=\"data row0 col21\" >1.00</td>\n      <td id=\"T_74cd8_row0_col22\" class=\"data row0 col22\" >0.00</td>\n      <td id=\"T_74cd8_row0_col23\" class=\"data row0 col23\" >0.00</td>\n    </tr>\n    <tr>\n      <th id=\"T_74cd8_level0_row1\" class=\"row_heading level0 row1\" >BeDivFuzz-Structure</th>\n      <td id=\"T_74cd8_row1_col0\" class=\"data row1 col0\" >0.05</td>\n      <td id=\"T_74cd8_row1_col1\" class=\"data row1 col1\" >0.70</td>\n      <td id=\"T_74cd8_row1_col2\" class=\"data row1 col2\" >0.00</td>\n      <td id=\"T_74cd8_row1_col3\" class=\"data row1 col3\" >0.00</td>\n      <td id=\"T_74cd8_row1_col4\" class=\"data row1 col4\" >0.00</td>\n      <td id=\"T_74cd8_row1_col5\" class=\"data row1 col5\" >0.15</td>\n      <td id=\"T_74cd8_row1_col6\" class=\"data row1 col6\" >0.00</td>\n      <td id=\"T_74cd8_row1_col7\" class=\"data row1 col7\" >1.00</td>\n      <td id=\"T_74cd8_row1_col8\" class=\"data row1 col8\" >0.00</td>\n      <td id=\"T_74cd8_row1_col9\" class=\"data row1 col9\" >0.00</td>\n      <td id=\"T_74cd8_row1_col10\" class=\"data row1 col10\" >0.00</td>\n      <td id=\"T_74cd8_row1_col11\" class=\"data row1 col11\" >0.00</td>\n      <td id=\"T_74cd8_row1_col12\" class=\"data row1 col12\" >0.00</td>\n      <td id=\"T_74cd8_row1_col13\" class=\"data row1 col13\" >0.00</td>\n      <td id=\"T_74cd8_row1_col14\" class=\"data row1 col14\" >0.00</td>\n      <td id=\"T_74cd8_row1_col15\" class=\"data row1 col15\" >0.00</td>\n      <td id=\"T_74cd8_row1_col16\" class=\"data row1 col16\" >0.20</td>\n      <td id=\"T_74cd8_row1_col17\" class=\"data row1 col17\" >0.65</td>\n      <td id=\"T_74cd8_row1_col18\" class=\"data row1 col18\" >0.00</td>\n      <td id=\"T_74cd8_row1_col19\" class=\"data row1 col19\" >0.00</td>\n      <td id=\"T_74cd8_row1_col20\" class=\"data row1 col20\" >1.00</td>\n      <td id=\"T_74cd8_row1_col21\" class=\"data row1 col21\" >1.00</td>\n      <td id=\"T_74cd8_row1_col22\" class=\"data row1 col22\" >0.00</td>\n      <td id=\"T_74cd8_row1_col23\" class=\"data row1 col23\" >0.00</td>\n    </tr>\n    <tr>\n      <th id=\"T_74cd8_level0_row2\" class=\"row_heading level0 row2\" >RLCheck</th>\n      <td id=\"T_74cd8_row2_col0\" class=\"data row2 col0\" >---</td>\n      <td id=\"T_74cd8_row2_col1\" class=\"data row2 col1\" >---</td>\n      <td id=\"T_74cd8_row2_col2\" class=\"data row2 col2\" >---</td>\n      <td id=\"T_74cd8_row2_col3\" class=\"data row2 col3\" >---</td>\n      <td id=\"T_74cd8_row2_col4\" class=\"data row2 col4\" >0.00</td>\n      <td id=\"T_74cd8_row2_col5\" class=\"data row2 col5\" >0.10</td>\n      <td id=\"T_74cd8_row2_col6\" class=\"data row2 col6\" >0.20</td>\n      <td id=\"T_74cd8_row2_col7\" class=\"data row2 col7\" >1.00</td>\n      <td id=\"T_74cd8_row2_col8\" class=\"data row2 col8\" >0.00</td>\n      <td id=\"T_74cd8_row2_col9\" class=\"data row2 col9\" >0.00</td>\n      <td id=\"T_74cd8_row2_col10\" class=\"data row2 col10\" >0.00</td>\n      <td id=\"T_74cd8_row2_col11\" class=\"data row2 col11\" >0.00</td>\n      <td id=\"T_74cd8_row2_col12\" class=\"data row2 col12\" >0.00</td>\n      <td id=\"T_74cd8_row2_col13\" class=\"data row2 col13\" >0.00</td>\n      <td id=\"T_74cd8_row2_col14\" class=\"data row2 col14\" >0.00</td>\n      <td id=\"T_74cd8_row2_col15\" class=\"data row2 col15\" >0.00</td>\n      <td id=\"T_74cd8_row2_col16\" class=\"data row2 col16\" >0.00</td>\n      <td id=\"T_74cd8_row2_col17\" class=\"data row2 col17\" >0.00</td>\n      <td id=\"T_74cd8_row2_col18\" class=\"data row2 col18\" >0.00</td>\n      <td id=\"T_74cd8_row2_col19\" class=\"data row2 col19\" >0.00</td>\n      <td id=\"T_74cd8_row2_col20\" class=\"data row2 col20\" >1.00</td>\n      <td id=\"T_74cd8_row2_col21\" class=\"data row2 col21\" >1.00</td>\n      <td id=\"T_74cd8_row2_col22\" class=\"data row2 col22\" >0.00</td>\n      <td id=\"T_74cd8_row2_col23\" class=\"data row2 col23\" >0.00</td>\n    </tr>\n    <tr>\n      <th id=\"T_74cd8_level0_row3\" class=\"row_heading level0 row3\" >Zest</th>\n      <td id=\"T_74cd8_row3_col0\" class=\"data row3 col0\" >0.00</td>\n      <td id=\"T_74cd8_row3_col1\" class=\"data row3 col1\" >1.00</td>\n      <td id=\"T_74cd8_row3_col2\" class=\"data row3 col2\" >0.00</td>\n      <td id=\"T_74cd8_row3_col3\" class=\"data row3 col3\" >0.00</td>\n      <td id=\"T_74cd8_row3_col4\" class=\"data row3 col4\" >0.00</td>\n      <td id=\"T_74cd8_row3_col5\" class=\"data row3 col5\" >0.40</td>\n      <td id=\"T_74cd8_row3_col6\" class=\"data row3 col6\" >0.10</td>\n      <td id=\"T_74cd8_row3_col7\" class=\"data row3 col7\" >1.00</td>\n      <td id=\"T_74cd8_row3_col8\" class=\"data row3 col8\" >0.00</td>\n      <td id=\"T_74cd8_row3_col9\" class=\"data row3 col9\" >0.00</td>\n      <td id=\"T_74cd8_row3_col10\" class=\"data row3 col10\" >0.00</td>\n      <td id=\"T_74cd8_row3_col11\" class=\"data row3 col11\" >0.00</td>\n      <td id=\"T_74cd8_row3_col12\" class=\"data row3 col12\" >0.00</td>\n      <td id=\"T_74cd8_row3_col13\" class=\"data row3 col13\" >0.00</td>\n      <td id=\"T_74cd8_row3_col14\" class=\"data row3 col14\" >0.00</td>\n      <td id=\"T_74cd8_row3_col15\" class=\"data row3 col15\" >0.10</td>\n      <td id=\"T_74cd8_row3_col16\" class=\"data row3 col16\" >0.05</td>\n      <td id=\"T_74cd8_row3_col17\" class=\"data row3 col17\" >0.95</td>\n      <td id=\"T_74cd8_row3_col18\" class=\"data row3 col18\" >0.00</td>\n      <td id=\"T_74cd8_row3_col19\" class=\"data row3 col19\" >0.20</td>\n      <td id=\"T_74cd8_row3_col20\" class=\"data row3 col20\" >1.00</td>\n      <td id=\"T_74cd8_row3_col21\" class=\"data row3 col21\" >1.00</td>\n      <td id=\"T_74cd8_row3_col22\" class=\"data row3 col22\" >0.00</td>\n      <td id=\"T_74cd8_row3_col23\" class=\"data row3 col23\" >0.05</td>\n    </tr>\n    <tr>\n      <th id=\"T_74cd8_level0_row4\" class=\"row_heading level0 row4\" >Zeugma</th>\n      <td id=\"T_74cd8_row4_col0\" class=\"data row4 col0\" >0.05</td>\n      <td id=\"T_74cd8_row4_col1\" class=\"data row4 col1\" >1.00</td>\n      <td id=\"T_74cd8_row4_col2\" class=\"data row4 col2\" >0.00</td>\n      <td id=\"T_74cd8_row4_col3\" class=\"data row4 col3\" >0.00</td>\n      <td id=\"T_74cd8_row4_col4\" class=\"data row4 col4\" >0.05</td>\n      <td id=\"T_74cd8_row4_col5\" class=\"data row4 col5\" >0.25</td>\n      <td id=\"T_74cd8_row4_col6\" class=\"data row4 col6\" >0.60</td>\n      <td id=\"T_74cd8_row4_col7\" class=\"data row4 col7\" >1.00</td>\n      <td id=\"T_74cd8_row4_col8\" class=\"data row4 col8\" >0.00</td>\n      <td id=\"T_74cd8_row4_col9\" class=\"data row4 col9\" >0.75</td>\n      <td id=\"T_74cd8_row4_col10\" class=\"data row4 col10\" >0.00</td>\n      <td id=\"T_74cd8_row4_col11\" class=\"data row4 col11\" >0.00</td>\n      <td id=\"T_74cd8_row4_col12\" class=\"data row4 col12\" >0.00</td>\n      <td id=\"T_74cd8_row4_col13\" class=\"data row4 col13\" >0.05</td>\n      <td id=\"T_74cd8_row4_col14\" class=\"data row4 col14\" >0.00</td>\n      <td id=\"T_74cd8_row4_col15\" class=\"data row4 col15\" >0.75</td>\n      <td id=\"T_74cd8_row4_col16\" class=\"data row4 col16\" >0.15</td>\n      <td id=\"T_74cd8_row4_col17\" class=\"data row4 col17\" >0.80</td>\n      <td id=\"T_74cd8_row4_col18\" class=\"data row4 col18\" >0.00</td>\n      <td id=\"T_74cd8_row4_col19\" class=\"data row4 col19\" >0.95</td>\n      <td id=\"T_74cd8_row4_col20\" class=\"data row4 col20\" >1.00</td>\n      <td id=\"T_74cd8_row4_col21\" class=\"data row4 col21\" >1.00</td>\n      <td id=\"T_74cd8_row4_col22\" class=\"data row4 col22\" >0.00</td>\n      <td id=\"T_74cd8_row4_col23\" class=\"data row4 col23\" >0.90</td>\n    </tr>\n    <tr>\n      <th id=\"T_74cd8_level0_row5\" class=\"row_heading level0 row5\" >Zeugma-1PT</th>\n      <td id=\"T_74cd8_row5_col0\" class=\"data row5 col0\" >0.00</td>\n      <td id=\"T_74cd8_row5_col1\" class=\"data row5 col1\" >1.00</td>\n      <td id=\"T_74cd8_row5_col2\" class=\"data row5 col2\" >0.00</td>\n      <td id=\"T_74cd8_row5_col3\" class=\"data row5 col3\" >0.10</td>\n      <td id=\"T_74cd8_row5_col4\" class=\"data row5 col4\" >0.00</td>\n      <td id=\"T_74cd8_row5_col5\" class=\"data row5 col5\" >0.40</td>\n      <td id=\"T_74cd8_row5_col6\" class=\"data row5 col6\" >0.50</td>\n      <td id=\"T_74cd8_row5_col7\" class=\"data row5 col7\" >1.00</td>\n      <td id=\"T_74cd8_row5_col8\" class=\"data row5 col8\" >0.00</td>\n      <td id=\"T_74cd8_row5_col9\" class=\"data row5 col9\" >0.30</td>\n      <td id=\"T_74cd8_row5_col10\" class=\"data row5 col10\" >0.00</td>\n      <td id=\"T_74cd8_row5_col11\" class=\"data row5 col11\" >0.00</td>\n      <td id=\"T_74cd8_row5_col12\" class=\"data row5 col12\" >0.00</td>\n      <td id=\"T_74cd8_row5_col13\" class=\"data row5 col13\" >0.00</td>\n      <td id=\"T_74cd8_row5_col14\" class=\"data row5 col14\" >0.00</td>\n      <td id=\"T_74cd8_row5_col15\" class=\"data row5 col15\" >0.70</td>\n      <td id=\"T_74cd8_row5_col16\" class=\"data row5 col16\" >0.10</td>\n      <td id=\"T_74cd8_row5_col17\" class=\"data row5 col17\" >0.75</td>\n      <td id=\"T_74cd8_row5_col18\" class=\"data row5 col18\" >0.00</td>\n      <td id=\"T_74cd8_row5_col19\" class=\"data row5 col19\" >0.85</td>\n      <td id=\"T_74cd8_row5_col20\" class=\"data row5 col20\" >1.00</td>\n      <td id=\"T_74cd8_row5_col21\" class=\"data row5 col21\" >1.00</td>\n      <td id=\"T_74cd8_row5_col22\" class=\"data row5 col22\" >0.00</td>\n      <td id=\"T_74cd8_row5_col23\" class=\"data row5 col23\" >0.85</td>\n    </tr>\n    <tr>\n      <th id=\"T_74cd8_level0_row6\" class=\"row_heading level0 row6\" >Zeugma-2PT</th>\n      <td id=\"T_74cd8_row6_col0\" class=\"data row6 col0\" >0.25</td>\n      <td id=\"T_74cd8_row6_col1\" class=\"data row6 col1\" >1.00</td>\n      <td id=\"T_74cd8_row6_col2\" class=\"data row6 col2\" >0.00</td>\n      <td id=\"T_74cd8_row6_col3\" class=\"data row6 col3\" >0.10</td>\n      <td id=\"T_74cd8_row6_col4\" class=\"data row6 col4\" >0.00</td>\n      <td id=\"T_74cd8_row6_col5\" class=\"data row6 col5\" >0.40</td>\n      <td id=\"T_74cd8_row6_col6\" class=\"data row6 col6\" >0.80</td>\n      <td id=\"T_74cd8_row6_col7\" class=\"data row6 col7\" >1.00</td>\n      <td id=\"T_74cd8_row6_col8\" class=\"data row6 col8\" >0.00</td>\n      <td id=\"T_74cd8_row6_col9\" class=\"data row6 col9\" >0.45</td>\n      <td id=\"T_74cd8_row6_col10\" class=\"data row6 col10\" >0.00</td>\n      <td id=\"T_74cd8_row6_col11\" class=\"data row6 col11\" >0.05</td>\n      <td id=\"T_74cd8_row6_col12\" class=\"data row6 col12\" >0.00</td>\n      <td id=\"T_74cd8_row6_col13\" class=\"data row6 col13\" >0.05</td>\n      <td id=\"T_74cd8_row6_col14\" class=\"data row6 col14\" >0.00</td>\n      <td id=\"T_74cd8_row6_col15\" class=\"data row6 col15\" >0.60</td>\n      <td id=\"T_74cd8_row6_col16\" class=\"data row6 col16\" >0.10</td>\n      <td id=\"T_74cd8_row6_col17\" class=\"data row6 col17\" >0.90</td>\n      <td id=\"T_74cd8_row6_col18\" class=\"data row6 col18\" >0.00</td>\n      <td id=\"T_74cd8_row6_col19\" class=\"data row6 col19\" >0.70</td>\n      <td id=\"T_74cd8_row6_col20\" class=\"data row6 col20\" >1.00</td>\n      <td id=\"T_74cd8_row6_col21\" class=\"data row6 col21\" >1.00</td>\n      <td id=\"T_74cd8_row6_col22\" class=\"data row6 col22\" >0.00</td>\n      <td id=\"T_74cd8_row6_col23\" class=\"data row6 col23\" >0.85</td>\n    </tr>\n    <tr>\n      <th id=\"T_74cd8_level0_row7\" class=\"row_heading level0 row7\" >Zeugma-Linked</th>\n      <td id=\"T_74cd8_row7_col0\" class=\"data row7 col0\" >0.25</td>\n      <td id=\"T_74cd8_row7_col1\" class=\"data row7 col1\" >1.00</td>\n      <td id=\"T_74cd8_row7_col2\" class=\"data row7 col2\" >0.00</td>\n      <td id=\"T_74cd8_row7_col3\" class=\"data row7 col3\" >0.00</td>\n      <td id=\"T_74cd8_row7_col4\" class=\"data row7 col4\" >0.00</td>\n      <td id=\"T_74cd8_row7_col5\" class=\"data row7 col5\" >0.65</td>\n      <td id=\"T_74cd8_row7_col6\" class=\"data row7 col6\" >0.60</td>\n      <td id=\"T_74cd8_row7_col7\" class=\"data row7 col7\" >1.00</td>\n      <td id=\"T_74cd8_row7_col8\" class=\"data row7 col8\" >0.05</td>\n      <td id=\"T_74cd8_row7_col9\" class=\"data row7 col9\" >1.00</td>\n      <td id=\"T_74cd8_row7_col10\" class=\"data row7 col10\" >0.00</td>\n      <td id=\"T_74cd8_row7_col11\" class=\"data row7 col11\" >0.00</td>\n      <td id=\"T_74cd8_row7_col12\" class=\"data row7 col12\" >0.00</td>\n      <td id=\"T_74cd8_row7_col13\" class=\"data row7 col13\" >0.50</td>\n      <td id=\"T_74cd8_row7_col14\" class=\"data row7 col14\" >0.00</td>\n      <td id=\"T_74cd8_row7_col15\" class=\"data row7 col15\" >0.80</td>\n      <td id=\"T_74cd8_row7_col16\" class=\"data row7 col16\" >0.10</td>\n      <td id=\"T_74cd8_row7_col17\" class=\"data row7 col17\" >0.70</td>\n      <td id=\"T_74cd8_row7_col18\" class=\"data row7 col18\" >0.00</td>\n      <td id=\"T_74cd8_row7_col19\" class=\"data row7 col19\" >0.85</td>\n      <td id=\"T_74cd8_row7_col20\" class=\"data row7 col20\" >1.00</td>\n      <td id=\"T_74cd8_row7_col21\" class=\"data row7 col21\" >1.00</td>\n      <td id=\"T_74cd8_row7_col22\" class=\"data row7 col22\" >0.00</td>\n      <td id=\"T_74cd8_row7_col23\" class=\"data row7 col23\" >0.95</td>\n    </tr>\n  </tbody>\n</table>\n"
     },
     "metadata": {},
     "output_type": "display_data"
    }
   ],
   "source": [
    "import report_util\n",
    "\n",
    "\n",
    "def select(data, time, defect):\n",
    "    data = data[data['time'] == time]\n",
    "    return data[data['defect'] == defect]\n",
    "\n",
    "\n",
    "def create_rows(data, value, target_fuzzer='Zeugma-Linked'):\n",
    "    fuzzers = sorted(data['fuzzer'].unique())\n",
    "    rows = []\n",
    "    values1 = data[data['fuzzer'] == target_fuzzer][value]\n",
    "    significance_level = 0.05 / (len(fuzzers) * (len(fuzzers) - 1) / 2)\n",
    "    for fuzzer in fuzzers:\n",
    "        values2 = data[data['fuzzer'] == fuzzer][value]\n",
    "        sig = 'color: red;' if report_util.fisher_exact(values1, values2) < significance_level else ''\n",
    "        rows.append([fuzzer, values2.mean(), sig])\n",
    "    return pd.DataFrame(rows, columns=['fuzzer', 'value', 'sig'])\n",
    "\n",
    "\n",
    "def create_sig_table(data, value):\n",
    "    frames = []\n",
    "    for time, defect in data[['time', 'defect']].drop_duplicates().itertuples(index=False, name=None):\n",
    "        selected = select(data, time, defect)\n",
    "        frame = create_rows(selected, value)\n",
    "        frame['time'] = time\n",
    "        frame['defect'] = defect\n",
    "        frames.append(frame)\n",
    "    return pd.concat(frames)\n",
    "\n",
    "\n",
    "table = create_sig_table(detecting, 'detected')\n",
    "values = tables.pivot(table, 'defect', 'fuzzer', 'value')\n",
    "sigs = tables.pivot(table, 'defect', 'fuzzer', 'sig')\n",
    "styler = tables.style_table(values, precision=2, axis=0).apply(lambda _: sigs, axis=None)\n",
    "display(styler)"
   ],
   "metadata": {
    "collapsed": false,
    "ExecuteTime": {
     "end_time": "2023-07-03T18:07:45.751494126Z",
     "start_time": "2023-07-03T18:07:44.388687380Z"
    }
   }
  },
  {
   "cell_type": "code",
   "execution_count": 4,
   "outputs": [
    {
     "name": "stdout",
     "output_type": "stream",
     "text": [
      "\\begin{tabular}{lrrrrrrrrrrrrrrrrrrrrrrrr}\n",
      "\\toprule\n",
      "Defect & \\multicolumn{2}{c}{B0} & \\multicolumn{2}{c}{B1} & \\multicolumn{2}{c}{C0} & \\multicolumn{2}{c}{C1} & \\multicolumn{2}{c}{N0} & \\multicolumn{2}{c}{N1} & \\multicolumn{2}{c}{N2} & \\multicolumn{2}{c}{R0} & \\multicolumn{2}{c}{R1} & \\multicolumn{2}{c}{R2} & \\multicolumn{2}{c}{R3} & \\multicolumn{2}{c}{R4} \\\\\n",
      " & 5M & 3H & 5M & 3H & 5M & 3H & 5M & 3H & 5M & 3H & 5M & 3H & 5M & 3H & 5M & 3H & 5M & 3H & 5M & 3H & 5M & 3H & 5M & 3H \\\\\n",
      "Fuzzer &  &  &  &  &  &  &  &  &  &  &  &  &  &  &  &  &  &  &  &  &  &  &  &  \\\\\n",
      "\\midrule\n",
      "BeDivFuzz-Simple & 0.00 & 0.65 & {\\cellcolor{yellow}} 0.00 & 0.00 & 0.00 & \\color{red} 0.05 & 0.15 & {\\cellcolor{yellow}} 1.00 & 0.00 & \\color{red} 0.00 & {\\cellcolor{yellow}} 0.00 & 0.00 & {\\cellcolor{yellow}} 0.00 & \\color{red} 0.00 & {\\cellcolor{yellow}} 0.00 & \\color{red} 0.00 & 0.05 & 0.45 & {\\cellcolor{yellow}} 0.00 & \\color{red} 0.00 & {\\cellcolor{yellow}} 1.00 & {\\cellcolor{yellow}} 1.00 & {\\cellcolor{yellow}} 0.00 & \\color{red} 0.00 \\\\\n",
      "BeDivFuzz-Structure & 0.05 & 0.70 & {\\cellcolor{yellow}} 0.00 & 0.00 & 0.00 & 0.15 & \\color{red} 0.00 & {\\cellcolor{yellow}} 1.00 & 0.00 & \\color{red} 0.00 & {\\cellcolor{yellow}} 0.00 & 0.00 & {\\cellcolor{yellow}} 0.00 & \\color{red} 0.00 & {\\cellcolor{yellow}} 0.00 & \\color{red} 0.00 & {\\cellcolor{yellow}} 0.20 & 0.65 & {\\cellcolor{yellow}} 0.00 & \\color{red} 0.00 & {\\cellcolor{yellow}} 1.00 & {\\cellcolor{yellow}} 1.00 & {\\cellcolor{yellow}} 0.00 & \\color{red} 0.00 \\\\\n",
      "RLCheck & --- & --- & --- & --- & 0.00 & \\color{red} 0.10 & 0.20 & {\\cellcolor{yellow}} 1.00 & 0.00 & \\color{red} 0.00 & {\\cellcolor{yellow}} 0.00 & 0.00 & {\\cellcolor{yellow}} 0.00 & \\color{red} 0.00 & {\\cellcolor{yellow}} 0.00 & \\color{red} 0.00 & 0.00 & \\color{red} 0.00 & {\\cellcolor{yellow}} 0.00 & \\color{red} 0.00 & {\\cellcolor{yellow}} 1.00 & {\\cellcolor{yellow}} 1.00 & {\\cellcolor{yellow}} 0.00 & \\color{red} 0.00 \\\\\n",
      "Zest & 0.00 & {\\cellcolor{yellow}} 1.00 & {\\cellcolor{yellow}} 0.00 & 0.00 & 0.00 & 0.40 & 0.10 & {\\cellcolor{yellow}} 1.00 & 0.00 & \\color{red} 0.00 & {\\cellcolor{yellow}} 0.00 & 0.00 & {\\cellcolor{yellow}} 0.00 & \\color{red} 0.00 & {\\cellcolor{yellow}} 0.00 & \\color{red} 0.10 & 0.05 & {\\cellcolor{yellow}} 0.95 & {\\cellcolor{yellow}} 0.00 & \\color{red} 0.20 & {\\cellcolor{yellow}} 1.00 & {\\cellcolor{yellow}} 1.00 & {\\cellcolor{yellow}} 0.00 & \\color{red} 0.05 \\\\\n",
      "Zeugma & 0.05 & {\\cellcolor{yellow}} 1.00 & {\\cellcolor{yellow}} 0.00 & 0.00 & {\\cellcolor{yellow}} 0.05 & 0.25 & 0.60 & {\\cellcolor{yellow}} 1.00 & 0.00 & 0.75 & {\\cellcolor{yellow}} 0.00 & 0.00 & {\\cellcolor{yellow}} 0.00 & 0.05 & {\\cellcolor{yellow}} 0.00 & 0.75 & 0.15 & 0.80 & {\\cellcolor{yellow}} 0.00 & {\\cellcolor{yellow}} 0.95 & {\\cellcolor{yellow}} 1.00 & {\\cellcolor{yellow}} 1.00 & {\\cellcolor{yellow}} 0.00 & 0.90 \\\\\n",
      "Zeugma-1PT & 0.00 & {\\cellcolor{yellow}} 1.00 & {\\cellcolor{yellow}} 0.00 & {\\cellcolor{yellow}} 0.10 & 0.00 & 0.40 & 0.50 & {\\cellcolor{yellow}} 1.00 & 0.00 & \\color{red} 0.30 & {\\cellcolor{yellow}} 0.00 & 0.00 & {\\cellcolor{yellow}} 0.00 & \\color{red} 0.00 & {\\cellcolor{yellow}} 0.00 & 0.70 & 0.10 & 0.75 & {\\cellcolor{yellow}} 0.00 & 0.85 & {\\cellcolor{yellow}} 1.00 & {\\cellcolor{yellow}} 1.00 & {\\cellcolor{yellow}} 0.00 & 0.85 \\\\\n",
      "Zeugma-2PT & {\\cellcolor{yellow}} 0.25 & {\\cellcolor{yellow}} 1.00 & {\\cellcolor{yellow}} 0.00 & {\\cellcolor{yellow}} 0.10 & 0.00 & 0.40 & {\\cellcolor{yellow}} 0.80 & {\\cellcolor{yellow}} 1.00 & 0.00 & \\color{red} 0.45 & {\\cellcolor{yellow}} 0.00 & {\\cellcolor{yellow}} 0.05 & {\\cellcolor{yellow}} 0.00 & 0.05 & {\\cellcolor{yellow}} 0.00 & 0.60 & 0.10 & 0.90 & {\\cellcolor{yellow}} 0.00 & 0.70 & {\\cellcolor{yellow}} 1.00 & {\\cellcolor{yellow}} 1.00 & {\\cellcolor{yellow}} 0.00 & 0.85 \\\\\n",
      "Zeugma-Linked & {\\cellcolor{yellow}} 0.25 & {\\cellcolor{yellow}} 1.00 & {\\cellcolor{yellow}} 0.00 & 0.00 & 0.00 & {\\cellcolor{yellow}} 0.65 & 0.60 & {\\cellcolor{yellow}} 1.00 & {\\cellcolor{yellow}} 0.05 & {\\cellcolor{yellow}} 1.00 & {\\cellcolor{yellow}} 0.00 & 0.00 & {\\cellcolor{yellow}} 0.00 & {\\cellcolor{yellow}} 0.50 & {\\cellcolor{yellow}} 0.00 & {\\cellcolor{yellow}} 0.80 & 0.10 & 0.70 & {\\cellcolor{yellow}} 0.00 & 0.85 & {\\cellcolor{yellow}} 1.00 & {\\cellcolor{yellow}} 1.00 & {\\cellcolor{yellow}} 0.00 & {\\cellcolor{yellow}} 0.95 \\\\\n",
      "\\bottomrule\n",
      "\\end{tabular}\n",
      "\n"
     ]
    }
   ],
   "source": [
    "print(styler.to_latex(multicol_align='c', hrules=True, multirow_align='t', convert_css=True))"
   ],
   "metadata": {
    "collapsed": false,
    "ExecuteTime": {
     "end_time": "2023-07-03T18:07:45.832979144Z",
     "start_time": "2023-07-03T18:07:45.780663737Z"
    }
   }
  }
 ],
 "metadata": {
  "kernelspec": {
   "display_name": "Python 3",
   "language": "python",
   "name": "python3"
  },
  "language_info": {
   "codemirror_mode": {
    "name": "ipython",
    "version": 2
   },
   "file_extension": ".py",
   "mimetype": "text/x-python",
   "name": "python",
   "nbconvert_exporter": "python",
   "pygments_lexer": "ipython2",
   "version": "2.7.6"
  }
 },
 "nbformat": 4,
 "nbformat_minor": 0
}
