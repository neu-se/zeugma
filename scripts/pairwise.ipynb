{
 "cells": [
  {
   "cell_type": "code",
   "execution_count": 1,
   "metadata": {
    "collapsed": true,
    "ExecuteTime": {
     "end_time": "2023-07-14T14:48:52.058345047Z",
     "start_time": "2023-07-14T14:48:50.842464722Z"
    }
   },
   "outputs": [
    {
     "data": {
      "text/plain": "   campaign_id      fuzzer subject defect            time  detected\n0           10        Zest    Bcel     B0 0 days 00:05:00     False\n1           10        Zest    Bcel     B1 0 days 00:05:00     False\n2          100  Zeugma-1PT   Rhino     R0 0 days 00:05:00     False\n3          100  Zeugma-1PT   Rhino     R1 0 days 00:05:00     False\n4          100  Zeugma-1PT   Rhino     R2 0 days 00:05:00     False",
      "text/html": "<div>\n<style scoped>\n    .dataframe tbody tr th:only-of-type {\n        vertical-align: middle;\n    }\n\n    .dataframe tbody tr th {\n        vertical-align: top;\n    }\n\n    .dataframe thead th {\n        text-align: right;\n    }\n</style>\n<table border=\"1\" class=\"dataframe\">\n  <thead>\n    <tr style=\"text-align: right;\">\n      <th></th>\n      <th>campaign_id</th>\n      <th>fuzzer</th>\n      <th>subject</th>\n      <th>defect</th>\n      <th>time</th>\n      <th>detected</th>\n    </tr>\n  </thead>\n  <tbody>\n    <tr>\n      <th>0</th>\n      <td>10</td>\n      <td>Zest</td>\n      <td>Bcel</td>\n      <td>B0</td>\n      <td>0 days 00:05:00</td>\n      <td>False</td>\n    </tr>\n    <tr>\n      <th>1</th>\n      <td>10</td>\n      <td>Zest</td>\n      <td>Bcel</td>\n      <td>B1</td>\n      <td>0 days 00:05:00</td>\n      <td>False</td>\n    </tr>\n    <tr>\n      <th>2</th>\n      <td>100</td>\n      <td>Zeugma-1PT</td>\n      <td>Rhino</td>\n      <td>R0</td>\n      <td>0 days 00:05:00</td>\n      <td>False</td>\n    </tr>\n    <tr>\n      <th>3</th>\n      <td>100</td>\n      <td>Zeugma-1PT</td>\n      <td>Rhino</td>\n      <td>R1</td>\n      <td>0 days 00:05:00</td>\n      <td>False</td>\n    </tr>\n    <tr>\n      <th>4</th>\n      <td>100</td>\n      <td>Zeugma-1PT</td>\n      <td>Rhino</td>\n      <td>R2</td>\n      <td>0 days 00:05:00</td>\n      <td>False</td>\n    </tr>\n  </tbody>\n</table>\n</div>"
     },
     "execution_count": 1,
     "metadata": {},
     "output_type": "execute_result"
    }
   ],
   "source": [
    "import pandas as pd\n",
    "\n",
    "import report_util\n",
    "import tables\n",
    "\n",
    "times = [pd.to_timedelta(5, 'm'), pd.to_timedelta(3, 'h')]\n",
    "defects = tables.times_to_detected(report_util.read_timedelta_csv('../data/detections.csv'), times)\n",
    "defects.head()"
   ]
  },
  {
   "cell_type": "code",
   "execution_count": 2,
   "outputs": [
    {
     "data": {
      "text/plain": "      index            time  covered_branches subject  campaign_id      fuzzer\n28       28 0 days 00:05:00             579.0   Maven          135     RLCheck\n1000   1000 0 days 03:00:00             663.0   Maven          135     RLCheck\n1029     28 0 days 00:05:00             287.0  Tomcat          160        Zest\n2001   1000 0 days 03:00:00             343.0  Tomcat          160        Zest\n2030     28 0 days 00:05:00            3152.0   Rhino          871  Zeugma-2PT",
      "text/html": "<div>\n<style scoped>\n    .dataframe tbody tr th:only-of-type {\n        vertical-align: middle;\n    }\n\n    .dataframe tbody tr th {\n        vertical-align: top;\n    }\n\n    .dataframe thead th {\n        text-align: right;\n    }\n</style>\n<table border=\"1\" class=\"dataframe\">\n  <thead>\n    <tr style=\"text-align: right;\">\n      <th></th>\n      <th>index</th>\n      <th>time</th>\n      <th>covered_branches</th>\n      <th>subject</th>\n      <th>campaign_id</th>\n      <th>fuzzer</th>\n    </tr>\n  </thead>\n  <tbody>\n    <tr>\n      <th>28</th>\n      <td>28</td>\n      <td>0 days 00:05:00</td>\n      <td>579.0</td>\n      <td>Maven</td>\n      <td>135</td>\n      <td>RLCheck</td>\n    </tr>\n    <tr>\n      <th>1000</th>\n      <td>1000</td>\n      <td>0 days 03:00:00</td>\n      <td>663.0</td>\n      <td>Maven</td>\n      <td>135</td>\n      <td>RLCheck</td>\n    </tr>\n    <tr>\n      <th>1029</th>\n      <td>28</td>\n      <td>0 days 00:05:00</td>\n      <td>287.0</td>\n      <td>Tomcat</td>\n      <td>160</td>\n      <td>Zest</td>\n    </tr>\n    <tr>\n      <th>2001</th>\n      <td>1000</td>\n      <td>0 days 03:00:00</td>\n      <td>343.0</td>\n      <td>Tomcat</td>\n      <td>160</td>\n      <td>Zest</td>\n    </tr>\n    <tr>\n      <th>2030</th>\n      <td>28</td>\n      <td>0 days 00:05:00</td>\n      <td>3152.0</td>\n      <td>Rhino</td>\n      <td>871</td>\n      <td>Zeugma-2PT</td>\n    </tr>\n  </tbody>\n</table>\n</div>"
     },
     "execution_count": 2,
     "metadata": {},
     "output_type": "execute_result"
    }
   ],
   "source": [
    "coverage = report_util.read_timedelta_csv('../data/coverage.csv')\n",
    "coverage = coverage[coverage['time'].isin(times)]\n",
    "coverage.head()"
   ],
   "metadata": {
    "collapsed": false,
    "ExecuteTime": {
     "end_time": "2023-07-14T14:48:57.925749622Z",
     "start_time": "2023-07-14T14:48:52.034666646Z"
    }
   }
  },
  {
   "cell_type": "code",
   "execution_count": 3,
   "outputs": [
    {
     "data": {
      "text/plain": "  subject crossover_operator  inheritance_rate  hybrid\n0   Rhino          Two Point          0.075963    True\n1   Rhino          One Point          0.077003    True\n2   Rhino             Linked          0.424558   False\n3   Rhino          Two Point          0.226203    True\n4   Rhino          One Point          0.299386    True",
      "text/html": "<div>\n<style scoped>\n    .dataframe tbody tr th:only-of-type {\n        vertical-align: middle;\n    }\n\n    .dataframe tbody tr th {\n        vertical-align: top;\n    }\n\n    .dataframe thead th {\n        text-align: right;\n    }\n</style>\n<table border=\"1\" class=\"dataframe\">\n  <thead>\n    <tr style=\"text-align: right;\">\n      <th></th>\n      <th>subject</th>\n      <th>crossover_operator</th>\n      <th>inheritance_rate</th>\n      <th>hybrid</th>\n    </tr>\n  </thead>\n  <tbody>\n    <tr>\n      <th>0</th>\n      <td>Rhino</td>\n      <td>Two Point</td>\n      <td>0.075963</td>\n      <td>True</td>\n    </tr>\n    <tr>\n      <th>1</th>\n      <td>Rhino</td>\n      <td>One Point</td>\n      <td>0.077003</td>\n      <td>True</td>\n    </tr>\n    <tr>\n      <th>2</th>\n      <td>Rhino</td>\n      <td>Linked</td>\n      <td>0.424558</td>\n      <td>False</td>\n    </tr>\n    <tr>\n      <th>3</th>\n      <td>Rhino</td>\n      <td>Two Point</td>\n      <td>0.226203</td>\n      <td>True</td>\n    </tr>\n    <tr>\n      <th>4</th>\n      <td>Rhino</td>\n      <td>One Point</td>\n      <td>0.299386</td>\n      <td>True</td>\n    </tr>\n  </tbody>\n</table>\n</div>"
     },
     "execution_count": 3,
     "metadata": {},
     "output_type": "execute_result"
    }
   ],
   "source": [
    "heritability = pd.read_csv('../data/heritability.csv')\n",
    "heritability.head()"
   ],
   "metadata": {
    "collapsed": false,
    "ExecuteTime": {
     "end_time": "2023-07-14T14:48:58.008639077Z",
     "start_time": "2023-07-14T14:48:57.926451698Z"
    }
   }
  },
  {
   "cell_type": "code",
   "execution_count": 4,
   "outputs": [],
   "source": [
    "from report_util import get_stat_functions, compute_sig_level, compute_bucket\n",
    "\n",
    "sig_colors = {True: 'lightblue', False: 'coolgrey'}\n",
    "effect_colors = ['warmgrey', 'lightred', 'red', 'darkred']\n",
    "\n",
    "\n",
    "def compute_pairwise(data, x, y):\n",
    "    f1, f2, bounds2, _ = get_stat_functions(data, y)\n",
    "    unique_x = sorted(data[x].unique())\n",
    "    sig_level = compute_sig_level(unique_x)\n",
    "    rows = []\n",
    "    for r, x1 in enumerate(unique_x):\n",
    "        values1 = data[data[x] == x1][y]\n",
    "        row = []\n",
    "        for c, x2 in enumerate(unique_x):\n",
    "            values2 = data[data[x] == x2][y]\n",
    "            if r > c:\n",
    "                p = f1(values1, values2)\n",
    "                text = f'{p:.2E}'.replace('E', r'\\\\E')\n",
    "                color = sig_colors[p < sig_level]\n",
    "            elif r < c:\n",
    "                e = f2(values1, values2)\n",
    "                text = f'{e:.3f}'\n",
    "                color = effect_colors[compute_bucket(e, bounds2)]\n",
    "            else:\n",
    "                text = x1\n",
    "                color = 'white'\n",
    "            node = f'\\\\node[fill={color}] {{{text}}};'\n",
    "            row.append(node)\n",
    "        rows.append('&'.join(row))\n",
    "    return '\\\\\\\\\\n'.join(rows)"
   ],
   "metadata": {
    "collapsed": false,
    "ExecuteTime": {
     "end_time": "2023-07-14T14:48:58.194039647Z",
     "start_time": "2023-07-14T14:48:57.992087535Z"
    }
   }
  },
  {
   "cell_type": "code",
   "execution_count": 5,
   "outputs": [
    {
     "name": "stdout",
     "output_type": "stream",
     "text": [
      "\\matrix(ant-hy)[matrix of nodes]{%\n",
      "    \\node[fill=white] {Linked};&\\node[fill=red] {1.506};&\\node[fill=lightred] {1.314};\\\\\n",
      "\\node[fill=lightblue] {6.14\\\\E-06};&\\node[fill=white] {One Point};&\\node[fill=warmgrey] {0.873};\\\\\n",
      "\\node[fill=lightblue] {2.68\\\\E-03};&\\node[fill=coolgrey] {1.40\\\\E-01};&\\node[fill=white] {Two Point};\\\\%\n",
      "};\n",
      "\\node[below =-2mm of ant-hy, draw=none] {\\textbf{Ant}};\n",
      "\\matrix(bcel-hy)[matrix of nodes,right=-1mm of  ant-hy]{%\n",
      "    \\node[fill=white] {Linked};&\\node[fill=warmgrey] {0.203};&\\node[fill=warmgrey] {0.127};\\\\\n",
      "\\node[fill=lightblue] {3.21\\\\E-65};&\\node[fill=white] {One Point};&\\node[fill=warmgrey] {0.627};\\\\\n",
      "\\node[fill=lightblue] {4.74\\\\E-103};&\\node[fill=lightblue] {2.88\\\\E-06};&\\node[fill=white] {Two Point};\\\\%\n",
      "};\n",
      "\\node[below =-2mm of bcel-hy, draw=none] {\\textbf{Bcel}};\n",
      "\\matrix(closure-hy)[matrix of nodes,right=-1mm of  bcel-hy]{%\n",
      "    \\node[fill=white] {Linked};&\\node[fill=lightred] {1.475};&\\node[fill=warmgrey] {1.163};\\\\\n",
      "\\node[fill=lightblue] {9.10\\\\E-05};&\\node[fill=white] {One Point};&\\node[fill=warmgrey] {0.789};\\\\\n",
      "\\node[fill=coolgrey] {1.45\\\\E-01};&\\node[fill=lightblue] {1.59\\\\E-02};&\\node[fill=white] {Two Point};\\\\%\n",
      "};\n",
      "\\node[below =-2mm of closure-hy, draw=none] {\\textbf{Closure}};\n",
      "\\matrix(maven-hy)[matrix of nodes,right=-1mm of  closure-hy]{%\n",
      "    \\node[fill=white] {Linked};&\\node[fill=warmgrey] {1.188};&\\node[fill=warmgrey] {1.213};\\\\\n",
      "\\node[fill=coolgrey] {6.36\\\\E-02};&\\node[fill=white] {One Point};&\\node[fill=warmgrey] {1.021};\\\\\n",
      "\\node[fill=coolgrey] {3.73\\\\E-02};&\\node[fill=coolgrey] {8.55\\\\E-01};&\\node[fill=white] {Two Point};\\\\%\n",
      "};\n",
      "\\node[below =-2mm of maven-hy, draw=none] {\\textbf{Maven}};\n",
      "\\matrix(nashorn-hy)[matrix of nodes,right=-1mm of  maven-hy]{%\n",
      "    \\node[fill=white] {Linked};&\\node[fill=lightred] {1.357};&\\node[fill=warmgrey] {1.139};\\\\\n",
      "\\node[fill=lightblue] {9.18\\\\E-04};&\\node[fill=white] {One Point};&\\node[fill=warmgrey] {0.839};\\\\\n",
      "\\node[fill=coolgrey] {1.70\\\\E-01};&\\node[fill=coolgrey] {5.78\\\\E-02};&\\node[fill=white] {Two Point};\\\\%\n",
      "};\n",
      "\\node[below =-2mm of nashorn-hy, draw=none] {\\textbf{Nashorn}};\n",
      "\\matrix(rhino-hy)[matrix of nodes,right=-1mm of  nashorn-hy]{%\n",
      "    \\node[fill=white] {Linked};&\\node[fill=warmgrey] {1.051};&\\node[fill=warmgrey] {0.872};\\\\\n",
      "\\node[fill=coolgrey] {6.15\\\\E-01};&\\node[fill=white] {One Point};&\\node[fill=warmgrey] {0.829};\\\\\n",
      "\\node[fill=coolgrey] {1.52\\\\E-01};&\\node[fill=coolgrey] {4.75\\\\E-02};&\\node[fill=white] {Two Point};\\\\%\n",
      "};\n",
      "\\node[below =-2mm of rhino-hy, draw=none] {\\textbf{Rhino}};\n",
      "\\matrix(tomcat-hy)[matrix of nodes,right=-1mm of  rhino-hy]{%\n",
      "    \\node[fill=white] {Linked};&\\node[fill=warmgrey] {0.882};&\\node[fill=warmgrey] {0.973};\\\\\n",
      "\\node[fill=coolgrey] {2.01\\\\E-01};&\\node[fill=white] {One Point};&\\node[fill=warmgrey] {1.103};\\\\\n",
      "\\node[fill=coolgrey] {8.11\\\\E-01};&\\node[fill=coolgrey] {3.21\\\\E-01};&\\node[fill=white] {Two Point};\\\\%\n",
      "};\n",
      "\\node[below =-2mm of tomcat-hy, draw=none] {\\textbf{Tomcat}};\n"
     ]
    }
   ],
   "source": [
    "\n",
    "TEMPLATE = r\"\"\"\\matrix($0)[matrix of nodes$3]{%\n",
    "    $1\\\\%\n",
    "};\n",
    "\\node[below =-2mm of $0, draw=none] {\\textbf{$2}};\"\"\"\n",
    "subjects = sorted(heritability['subject'].unique())\n",
    "prev = None\n",
    "for subject in subjects:\n",
    "    selected = report_util.select(heritability, subject=subject)\n",
    "    t = TEMPLATE.replace(\"$0\", f'{subject.lower()}-hy') \\\n",
    "        .replace(\"$1\", compute_pairwise(selected, 'crossover_operator', 'hybrid')) \\\n",
    "        .replace('$2', subject.title()) \\\n",
    "        .replace(\"$3\", f\",right=-1mm of  {prev}\" if prev is not None else '')\n",
    "    prev = f'{subject.lower()}-hy'\n",
    "    print(t)"
   ],
   "metadata": {
    "collapsed": false,
    "ExecuteTime": {
     "end_time": "2023-07-14T14:48:58.939873812Z",
     "start_time": "2023-07-14T14:48:58.002651507Z"
    }
   }
  },
  {
   "cell_type": "code",
   "execution_count": 6,
   "outputs": [
    {
     "name": "stdout",
     "output_type": "stream",
     "text": [
      "\\matrix(ant-5M)[matrix of nodes]{%\n",
      "    \\node[fill=white] {\\bedivfuzzSimple};&\\node[fill=darkred] {0.718};&\\node[fill=lightred] {0.627};&\\node[fill=darkred] {0.909};&\\node[fill=darkred] {0.927};&\\node[fill=darkred] {0.914};&\\node[fill=darkred] {0.965};&\\node[fill=darkred] {0.949};\\\\\n",
      "\\node[fill=coolgrey] {1.93\\\\E-02};&\\node[fill=white] {\\bedivfuzzStructure};&\\node[fill=darkred] {0.900};&\\node[fill=darkred] {0.858};&\\node[fill=darkred] {0.863};&\\node[fill=darkred] {0.869};&\\node[fill=darkred] {0.907};&\\node[fill=darkred] {0.896};\\\\\n",
      "\\node[fill=coolgrey] {1.69\\\\E-01};&\\node[fill=lightblue] {1.43\\\\E-05};&\\node[fill=white] {\\rlcheck};&\\node[fill=darkred] {1.000};&\\node[fill=darkred] {1.000};&\\node[fill=darkred] {1.000};&\\node[fill=darkred] {1.000};&\\node[fill=darkred] {1.000};\\\\\n",
      "\\node[fill=lightblue] {1.02\\\\E-05};&\\node[fill=lightblue] {1.14\\\\E-04};&\\node[fill=lightblue] {5.60\\\\E-08};&\\node[fill=white] {\\zest};&\\node[fill=warmgrey] {0.559};&\\node[fill=warmgrey] {0.550};&\\node[fill=darkred] {0.756};&\\node[fill=red] {0.698};\\\\\n",
      "\\node[fill=lightblue] {3.96\\\\E-06};&\\node[fill=lightblue] {9.24\\\\E-05};&\\node[fill=lightblue] {5.68\\\\E-08};&\\node[fill=coolgrey] {5.33\\\\E-01};&\\node[fill=white] {\\sysnameOnePT};&\\node[fill=warmgrey] {0.530};&\\node[fill=darkred] {0.748};&\\node[fill=red] {0.656};\\\\\n",
      "\\node[fill=lightblue] {8.04\\\\E-06};&\\node[fill=lightblue] {6.97\\\\E-05};&\\node[fill=lightblue] {5.68\\\\E-08};&\\node[fill=coolgrey] {5.97\\\\E-01};&\\node[fill=coolgrey] {7.56\\\\E-01};&\\node[fill=white] {\\sysnameTwoPT};&\\node[fill=darkred] {0.774};&\\node[fill=red] {0.696};\\\\\n",
      "\\node[fill=lightblue] {5.23\\\\E-07};&\\node[fill=lightblue] {1.10\\\\E-05};&\\node[fill=lightblue] {5.70\\\\E-08};&\\node[fill=coolgrey] {5.75\\\\E-03};&\\node[fill=coolgrey] {7.69\\\\E-03};&\\node[fill=coolgrey] {3.18\\\\E-03};&\\node[fill=white] {\\sysnameLinked};&\\node[fill=lightred] {0.603};\\\\\n",
      "\\node[fill=lightblue] {1.28\\\\E-06};&\\node[fill=lightblue] {1.91\\\\E-05};&\\node[fill=lightblue] {5.68\\\\E-08};&\\node[fill=coolgrey] {3.36\\\\E-02};&\\node[fill=coolgrey] {9.32\\\\E-02};&\\node[fill=coolgrey] {3.47\\\\E-02};&\\node[fill=coolgrey] {2.73\\\\E-01};&\\node[fill=white] {\\sysnameNone};\\\\%\n",
      "};\n",
      "\\node[below =-2mm of ant-5M, draw=none] {\\textbf{Ant at 5M}};\n",
      "\\matrix(bcel-5M)[matrix of nodes,right=-1mm of  ant-5M]{%\n",
      "    \\node[fill=white] {\\bedivfuzzSimple};&\\node[fill=warmgrey] {0.557};&\\node[fill=red] {0.647};&\\node[fill=lightred] {0.610};&\\node[fill=warmgrey] {0.555};&\\node[fill=darkred] {0.785};&\\node[fill=red] {0.674};\\\\\n",
      "\\node[fill=coolgrey] {5.43\\\\E-01};&\\node[fill=white] {\\bedivfuzzStructure};&\\node[fill=red] {0.677};&\\node[fill=red] {0.666};&\\node[fill=lightred] {0.605};&\\node[fill=darkred] {0.820};&\\node[fill=darkred] {0.722};\\\\\n",
      "\\node[fill=coolgrey] {1.14\\\\E-01};&\\node[fill=coolgrey] {5.65\\\\E-02};&\\node[fill=white] {\\zest};&\\node[fill=warmgrey] {0.557};&\\node[fill=red] {0.646};&\\node[fill=red] {0.640};&\\node[fill=warmgrey] {0.537};\\\\\n",
      "\\node[fill=coolgrey] {2.39\\\\E-01};&\\node[fill=coolgrey] {7.42\\\\E-02};&\\node[fill=coolgrey] {5.43\\\\E-01};&\\node[fill=white] {\\sysnameOnePT};&\\node[fill=lightred] {0.626};&\\node[fill=darkred] {0.732};&\\node[fill=warmgrey] {0.500};\\\\\n",
      "\\node[fill=coolgrey] {5.61\\\\E-01};&\\node[fill=coolgrey] {2.62\\\\E-01};&\\node[fill=coolgrey] {1.17\\\\E-01};&\\node[fill=coolgrey] {1.76\\\\E-01};&\\node[fill=white] {\\sysnameTwoPT};&\\node[fill=darkred] {0.904};&\\node[fill=lightred] {0.583};\\\\\n",
      "\\node[fill=lightblue] {2.14\\\\E-03};&\\node[fill=lightblue] {5.63\\\\E-04};&\\node[fill=coolgrey] {1.33\\\\E-01};&\\node[fill=coolgrey] {1.23\\\\E-02};&\\node[fill=lightblue] {1.33\\\\E-05};&\\node[fill=white] {\\sysnameLinked};&\\node[fill=darkred] {0.770};\\\\\n",
      "\\node[fill=coolgrey] {6.20\\\\E-02};&\\node[fill=coolgrey] {1.67\\\\E-02};&\\node[fill=coolgrey] {6.95\\\\E-01};&\\node[fill=coolgrey] {1.00\\\\E+00};&\\node[fill=coolgrey] {3.79\\\\E-01};&\\node[fill=coolgrey] {3.63\\\\E-03};&\\node[fill=white] {\\sysnameNone};\\\\%\n",
      "};\n",
      "\\node[below =-2mm of bcel-5M, draw=none] {\\textbf{Bcel at 5M}};\n",
      "\\matrix(closure-5M)[matrix of nodes,right=-1mm of  bcel-5M]{%\n",
      "    \\node[fill=white] {\\bedivfuzzSimple};&\\node[fill=warmgrey] {0.541};&\\node[fill=darkred] {0.995};&\\node[fill=darkred] {0.922};&\\node[fill=darkred] {1.000};&\\node[fill=darkred] {1.000};&\\node[fill=darkred] {1.000};&\\node[fill=darkred] {1.000};\\\\\n",
      "\\node[fill=coolgrey] {6.65\\\\E-01};&\\node[fill=white] {\\bedivfuzzStructure};&\\node[fill=darkred] {1.000};&\\node[fill=darkred] {0.932};&\\node[fill=darkred] {1.000};&\\node[fill=darkred] {1.000};&\\node[fill=darkred] {1.000};&\\node[fill=darkred] {1.000};\\\\\n",
      "\\node[fill=lightblue] {9.16\\\\E-08};&\\node[fill=lightblue] {6.79\\\\E-08};&\\node[fill=white] {\\rlcheck};&\\node[fill=darkred] {1.000};&\\node[fill=darkred] {1.000};&\\node[fill=darkred] {1.000};&\\node[fill=darkred] {1.000};&\\node[fill=darkred] {1.000};\\\\\n",
      "\\node[fill=lightblue] {5.17\\\\E-06};&\\node[fill=lightblue] {3.07\\\\E-06};&\\node[fill=lightblue] {6.79\\\\E-08};&\\node[fill=white] {\\zest};&\\node[fill=darkred] {0.965};&\\node[fill=darkred] {0.948};&\\node[fill=darkred] {0.985};&\\node[fill=darkred] {0.968};\\\\\n",
      "\\node[fill=lightblue] {6.79\\\\E-08};&\\node[fill=lightblue] {6.79\\\\E-08};&\\node[fill=lightblue] {6.78\\\\E-08};&\\node[fill=lightblue] {5.22\\\\E-07};&\\node[fill=white] {\\sysnameOnePT};&\\node[fill=warmgrey] {0.552};&\\node[fill=darkred] {0.804};&\\node[fill=lightred] {0.560};\\\\\n",
      "\\node[fill=lightblue] {6.78\\\\E-08};&\\node[fill=lightblue] {6.78\\\\E-08};&\\node[fill=lightblue] {6.77\\\\E-08};&\\node[fill=lightblue] {1.37\\\\E-06};&\\node[fill=coolgrey] {5.79\\\\E-01};&\\node[fill=white] {\\sysnameTwoPT};&\\node[fill=darkred] {0.845};&\\node[fill=lightred] {0.586};\\\\\n",
      "\\node[fill=lightblue] {6.80\\\\E-08};&\\node[fill=lightblue] {6.80\\\\E-08};&\\node[fill=lightblue] {6.79\\\\E-08};&\\node[fill=lightblue] {1.66\\\\E-07};&\\node[fill=lightblue] {1.06\\\\E-03};&\\node[fill=lightblue] {1.99\\\\E-04};&\\node[fill=white] {\\sysnameLinked};&\\node[fill=darkred] {0.738};\\\\\n",
      "\\node[fill=lightblue] {6.78\\\\E-08};&\\node[fill=lightblue] {6.78\\\\E-08};&\\node[fill=lightblue] {6.77\\\\E-08};&\\node[fill=lightblue] {4.53\\\\E-07};&\\node[fill=coolgrey] {5.25\\\\E-01};&\\node[fill=coolgrey] {3.58\\\\E-01};&\\node[fill=coolgrey] {1.06\\\\E-02};&\\node[fill=white] {\\sysnameNone};\\\\%\n",
      "};\n",
      "\\node[below =-2mm of closure-5M, draw=none] {\\textbf{Closure at 5M}};\n",
      "\\matrix(maven-5M)[matrix of nodes,right=-1mm of  closure-5M]{%\n",
      "    \\node[fill=white] {\\bedivfuzzSimple};&\\node[fill=darkred] {0.724};&\\node[fill=darkred] {0.938};&\\node[fill=darkred] {1.000};&\\node[fill=darkred] {1.000};&\\node[fill=darkred] {1.000};&\\node[fill=darkred] {1.000};&\\node[fill=darkred] {1.000};\\\\\n",
      "\\node[fill=coolgrey] {1.60\\\\E-02};&\\node[fill=white] {\\bedivfuzzStructure};&\\node[fill=warmgrey] {0.502};&\\node[fill=darkred] {1.000};&\\node[fill=darkred] {1.000};&\\node[fill=darkred] {1.000};&\\node[fill=darkred] {1.000};&\\node[fill=darkred] {1.000};\\\\\n",
      "\\node[fill=lightblue] {1.71\\\\E-06};&\\node[fill=coolgrey] {9.89\\\\E-01};&\\node[fill=white] {\\rlcheck};&\\node[fill=darkred] {1.000};&\\node[fill=darkred] {1.000};&\\node[fill=darkred] {1.000};&\\node[fill=darkred] {1.000};&\\node[fill=darkred] {1.000};\\\\\n",
      "\\node[fill=lightblue] {6.72\\\\E-08};&\\node[fill=lightblue] {6.77\\\\E-08};&\\node[fill=lightblue] {4.54\\\\E-08};&\\node[fill=white] {\\zest};&\\node[fill=darkred] {0.968};&\\node[fill=darkred] {0.720};&\\node[fill=darkred] {1.000};&\\node[fill=darkred] {0.993};\\\\\n",
      "\\node[fill=lightblue] {6.72\\\\E-08};&\\node[fill=lightblue] {6.77\\\\E-08};&\\node[fill=lightblue] {4.54\\\\E-08};&\\node[fill=lightblue] {4.53\\\\E-07};&\\node[fill=white] {\\sysnameOnePT};&\\node[fill=darkred] {0.921};&\\node[fill=darkred] {0.751};&\\node[fill=lightred] {0.619};\\\\\n",
      "\\node[fill=lightblue] {6.71\\\\E-08};&\\node[fill=lightblue] {6.76\\\\E-08};&\\node[fill=lightblue] {4.54\\\\E-08};&\\node[fill=coolgrey] {1.79\\\\E-02};&\\node[fill=lightblue] {5.49\\\\E-06};&\\node[fill=white] {\\sysnameTwoPT};&\\node[fill=darkred] {0.968};&\\node[fill=darkred] {0.948};\\\\\n",
      "\\node[fill=lightblue] {6.72\\\\E-08};&\\node[fill=lightblue] {6.77\\\\E-08};&\\node[fill=lightblue] {4.54\\\\E-08};&\\node[fill=lightblue] {6.78\\\\E-08};&\\node[fill=coolgrey] {6.82\\\\E-03};&\\node[fill=lightblue] {4.51\\\\E-07};&\\node[fill=white] {\\sysnameLinked};&\\node[fill=red] {0.694};\\\\\n",
      "\\node[fill=lightblue] {6.68\\\\E-08};&\\node[fill=lightblue] {6.73\\\\E-08};&\\node[fill=lightblue] {4.52\\\\E-08};&\\node[fill=lightblue] {1.06\\\\E-07};&\\node[fill=coolgrey] {2.03\\\\E-01};&\\node[fill=lightblue] {1.36\\\\E-06};&\\node[fill=coolgrey] {3.72\\\\E-02};&\\node[fill=white] {\\sysnameNone};\\\\%\n",
      "};\n",
      "\\node[below =-2mm of maven-5M, draw=none] {\\textbf{Maven at 5M}};\n",
      "\\matrix(nashorn-5M)[matrix of nodes,right=-1mm of  maven-5M]{%\n",
      "    \\node[fill=white] {\\bedivfuzzSimple};&\\node[fill=lightred] {0.569};&\\node[fill=darkred] {1.000};&\\node[fill=darkred] {1.000};&\\node[fill=darkred] {1.000};&\\node[fill=darkred] {1.000};&\\node[fill=darkred] {1.000};&\\node[fill=darkred] {1.000};\\\\\n",
      "\\node[fill=coolgrey] {4.65\\\\E-01};&\\node[fill=white] {\\bedivfuzzStructure};&\\node[fill=darkred] {1.000};&\\node[fill=darkred] {1.000};&\\node[fill=darkred] {0.959};&\\node[fill=darkred] {0.950};&\\node[fill=darkred] {0.995};&\\node[fill=darkred] {0.968};\\\\\n",
      "\\node[fill=lightblue] {8.01\\\\E-09};&\\node[fill=lightblue] {7.99\\\\E-09};&\\node[fill=white] {\\rlcheck};&\\node[fill=darkred] {1.000};&\\node[fill=darkred] {1.000};&\\node[fill=darkred] {1.000};&\\node[fill=darkred] {1.000};&\\node[fill=darkred] {1.000};\\\\\n",
      "\\node[fill=lightblue] {6.79\\\\E-08};&\\node[fill=lightblue] {6.78\\\\E-08};&\\node[fill=lightblue] {7.99\\\\E-09};&\\node[fill=white] {\\zest};&\\node[fill=darkred] {1.000};&\\node[fill=darkred] {1.000};&\\node[fill=darkred] {1.000};&\\node[fill=darkred] {1.000};\\\\\n",
      "\\node[fill=lightblue] {6.80\\\\E-08};&\\node[fill=lightblue] {7.40\\\\E-07};&\\node[fill=lightblue] {8.01\\\\E-09};&\\node[fill=lightblue] {6.79\\\\E-08};&\\node[fill=white] {\\sysnameOnePT};&\\node[fill=darkred] {0.733};&\\node[fill=darkred] {0.943};&\\node[fill=lightred] {0.617};\\\\\n",
      "\\node[fill=lightblue] {6.79\\\\E-08};&\\node[fill=lightblue] {1.20\\\\E-06};&\\node[fill=lightblue] {7.99\\\\E-09};&\\node[fill=lightblue] {6.78\\\\E-08};&\\node[fill=coolgrey] {1.23\\\\E-02};&\\node[fill=white] {\\sysnameTwoPT};&\\node[fill=darkred] {0.973};&\\node[fill=darkred] {0.805};\\\\\n",
      "\\node[fill=lightblue] {6.80\\\\E-08};&\\node[fill=lightblue] {9.16\\\\E-08};&\\node[fill=lightblue] {8.01\\\\E-09};&\\node[fill=lightblue] {6.79\\\\E-08};&\\node[fill=lightblue] {1.80\\\\E-06};&\\node[fill=lightblue] {3.41\\\\E-07};&\\node[fill=white] {\\sysnameLinked};&\\node[fill=darkred] {0.907};\\\\\n",
      "\\node[fill=lightblue] {6.79\\\\E-08};&\\node[fill=lightblue] {4.53\\\\E-07};&\\node[fill=lightblue] {7.99\\\\E-09};&\\node[fill=lightblue] {6.78\\\\E-08};&\\node[fill=coolgrey] {2.08\\\\E-01};&\\node[fill=lightblue] {1.01\\\\E-03};&\\node[fill=lightblue] {1.10\\\\E-05};&\\node[fill=white] {\\sysnameNone};\\\\%\n",
      "};\n",
      "\\node[below =-2mm of nashorn-5M, draw=none] {\\textbf{Nashorn at 5M}};\n",
      "\\matrix(rhino-5M)[matrix of nodes,right=-1mm of  nashorn-5M]{%\n",
      "    \\node[fill=white] {\\bedivfuzzSimple};&\\node[fill=darkred] {0.738};&\\node[fill=darkred] {1.000};&\\node[fill=darkred] {0.935};&\\node[fill=darkred] {0.995};&\\node[fill=darkred] {0.950};&\\node[fill=darkred] {1.000};&\\node[fill=darkred] {0.990};\\\\\n",
      "\\node[fill=coolgrey] {1.06\\\\E-02};&\\node[fill=white] {\\bedivfuzzStructure};&\\node[fill=darkred] {1.000};&\\node[fill=darkred] {0.975};&\\node[fill=darkred] {1.000};&\\node[fill=darkred] {0.986};&\\node[fill=darkred] {1.000};&\\node[fill=darkred] {1.000};\\\\\n",
      "\\node[fill=lightblue] {4.89\\\\E-08};&\\node[fill=lightblue] {4.90\\\\E-08};&\\node[fill=white] {\\rlcheck};&\\node[fill=darkred] {1.000};&\\node[fill=darkred] {1.000};&\\node[fill=darkred] {1.000};&\\node[fill=darkred] {1.000};&\\node[fill=darkred] {1.000};\\\\\n",
      "\\node[fill=lightblue] {2.68\\\\E-06};&\\node[fill=lightblue] {2.94\\\\E-07};&\\node[fill=lightblue] {4.87\\\\E-08};&\\node[fill=white] {\\zest};&\\node[fill=darkred] {0.945};&\\node[fill=red] {0.664};&\\node[fill=darkred] {1.000};&\\node[fill=darkred] {0.848};\\\\\n",
      "\\node[fill=lightblue] {9.15\\\\E-08};&\\node[fill=lightblue] {6.79\\\\E-08};&\\node[fill=lightblue] {4.89\\\\E-08};&\\node[fill=lightblue] {1.57\\\\E-06};&\\node[fill=white] {\\sysnameOnePT};&\\node[fill=darkred] {0.796};&\\node[fill=darkred] {0.932};&\\node[fill=warmgrey] {0.547};\\\\\n",
      "\\node[fill=lightblue] {1.20\\\\E-06};&\\node[fill=lightblue] {1.53\\\\E-07};&\\node[fill=lightblue] {4.89\\\\E-08};&\\node[fill=coolgrey] {7.86\\\\E-02};&\\node[fill=lightblue] {1.41\\\\E-03};&\\node[fill=white] {\\sysnameTwoPT};&\\node[fill=darkred] {0.980};&\\node[fill=darkred] {0.716};\\\\\n",
      "\\node[fill=lightblue] {6.77\\\\E-08};&\\node[fill=lightblue] {6.78\\\\E-08};&\\node[fill=lightblue] {4.89\\\\E-08};&\\node[fill=lightblue] {6.74\\\\E-08};&\\node[fill=lightblue] {3.05\\\\E-06};&\\node[fill=lightblue] {2.21\\\\E-07};&\\node[fill=white] {\\sysnameLinked};&\\node[fill=darkred] {0.945};\\\\\n",
      "\\node[fill=lightblue] {1.23\\\\E-07};&\\node[fill=lightblue] {6.78\\\\E-08};&\\node[fill=lightblue] {4.89\\\\E-08};&\\node[fill=lightblue] {1.79\\\\E-04};&\\node[fill=coolgrey] {6.17\\\\E-01};&\\node[fill=coolgrey] {2.00\\\\E-02};&\\node[fill=lightblue] {1.57\\\\E-06};&\\node[fill=white] {\\sysnameNone};\\\\%\n",
      "};\n",
      "\\node[below =-2mm of rhino-5M, draw=none] {\\textbf{Rhino at 5M}};\n",
      "\\matrix(tomcat-5M)[matrix of nodes,right=-1mm of  rhino-5M]{%\n",
      "    \\node[fill=white] {\\bedivfuzzSimple};&\\node[fill=darkred] {1.000};&\\node[fill=darkred] {0.914};&\\node[fill=darkred] {0.849};&\\node[fill=darkred] {0.850};&\\node[fill=darkred] {0.861};&\\node[fill=darkred] {0.896};&\\node[fill=darkred] {0.884};\\\\\n",
      "\\node[fill=lightblue] {6.19\\\\E-08};&\\node[fill=white] {\\bedivfuzzStructure};&\\node[fill=darkred] {1.000};&\\node[fill=darkred] {1.000};&\\node[fill=darkred] {1.000};&\\node[fill=darkred] {1.000};&\\node[fill=darkred] {1.000};&\\node[fill=darkred] {1.000};\\\\\n",
      "\\node[fill=lightblue] {5.29\\\\E-06};&\\node[fill=lightblue] {3.81\\\\E-08};&\\node[fill=white] {\\rlcheck};&\\node[fill=red] {0.666};&\\node[fill=lightred] {0.627};&\\node[fill=red] {0.650};&\\node[fill=lightred] {0.589};&\\node[fill=warmgrey] {0.552};\\\\\n",
      "\\node[fill=lightblue] {1.67\\\\E-04};&\\node[fill=lightblue] {6.23\\\\E-08};&\\node[fill=coolgrey] {6.73\\\\E-02};&\\node[fill=white] {\\zest};&\\node[fill=warmgrey] {0.517};&\\node[fill=warmgrey] {0.557};&\\node[fill=warmgrey] {0.559};&\\node[fill=lightred] {0.561};\\\\\n",
      "\\node[fill=lightblue] {1.57\\\\E-04};&\\node[fill=lightblue] {6.14\\\\E-08};&\\node[fill=coolgrey] {1.62\\\\E-01};&\\node[fill=coolgrey] {8.60\\\\E-01};&\\node[fill=white] {\\sysnameOnePT};&\\node[fill=warmgrey] {0.530};&\\node[fill=lightred] {0.569};&\\node[fill=lightred] {0.580};\\\\\n",
      "\\node[fill=lightblue] {9.66\\\\E-05};&\\node[fill=lightblue] {6.26\\\\E-08};&\\node[fill=coolgrey] {1.02\\\\E-01};&\\node[fill=coolgrey] {5.42\\\\E-01};&\\node[fill=coolgrey] {7.55\\\\E-01};&\\node[fill=white] {\\sysnameTwoPT};&\\node[fill=lightred] {0.614};&\\node[fill=lightred] {0.605};\\\\\n",
      "\\node[fill=lightblue] {1.87\\\\E-05};&\\node[fill=lightblue] {6.14\\\\E-08};&\\node[fill=coolgrey] {3.35\\\\E-01};&\\node[fill=coolgrey] {5.33\\\\E-01};&\\node[fill=coolgrey] {4.64\\\\E-01};&\\node[fill=coolgrey] {2.23\\\\E-01};&\\node[fill=white] {\\sysnameLinked};&\\node[fill=warmgrey] {0.521};\\\\\n",
      "\\node[fill=lightblue] {3.43\\\\E-05};&\\node[fill=lightblue] {6.26\\\\E-08};&\\node[fill=coolgrey] {5.71\\\\E-01};&\\node[fill=coolgrey] {5.16\\\\E-01};&\\node[fill=coolgrey] {3.93\\\\E-01};&\\node[fill=coolgrey] {2.61\\\\E-01};&\\node[fill=coolgrey] {8.28\\\\E-01};&\\node[fill=white] {\\sysnameNone};\\\\%\n",
      "};\n",
      "\\node[below =-2mm of tomcat-5M, draw=none] {\\textbf{Tomcat at 5M}};\n",
      "\\matrix(ant-3H)[matrix of nodes]{%\n",
      "    \\node[fill=white] {\\bedivfuzzSimple};&\\node[fill=red] {0.704};&\\node[fill=darkred] {0.996};&\\node[fill=darkred] {0.968};&\\node[fill=darkred] {0.764};&\\node[fill=darkred] {0.818};&\\node[fill=darkred] {0.823};&\\node[fill=darkred] {0.834};\\\\\n",
      "\\node[fill=coolgrey] {2.80\\\\E-02};&\\node[fill=white] {\\bedivfuzzStructure};&\\node[fill=darkred] {0.912};&\\node[fill=darkred] {0.998};&\\node[fill=darkred] {0.912};&\\node[fill=darkred] {0.931};&\\node[fill=darkred] {0.939};&\\node[fill=darkred] {0.934};\\\\\n",
      "\\node[fill=lightblue] {6.11\\\\E-08};&\\node[fill=lightblue] {6.70\\\\E-06};&\\node[fill=white] {\\rlcheck};&\\node[fill=darkred] {1.000};&\\node[fill=darkred] {1.000};&\\node[fill=darkred] {1.000};&\\node[fill=darkred] {1.000};&\\node[fill=darkred] {1.000};\\\\\n",
      "\\node[fill=lightblue] {4.06\\\\E-07};&\\node[fill=lightblue] {7.04\\\\E-08};&\\node[fill=lightblue] {4.46\\\\E-08};&\\node[fill=white] {\\zest};&\\node[fill=darkred] {0.943};&\\node[fill=darkred] {0.875};&\\node[fill=darkred] {0.896};&\\node[fill=darkred] {0.861};\\\\\n",
      "\\node[fill=coolgrey] {4.45\\\\E-03};&\\node[fill=lightblue] {8.28\\\\E-06};&\\node[fill=lightblue] {4.83\\\\E-08};&\\node[fill=lightblue] {1.65\\\\E-06};&\\node[fill=white] {\\sysnameOnePT};&\\node[fill=lightred] {0.574};&\\node[fill=lightred] {0.583};&\\node[fill=lightred] {0.601};\\\\\n",
      "\\node[fill=lightblue] {6.10\\\\E-04};&\\node[fill=lightblue] {3.17\\\\E-06};&\\node[fill=lightblue] {4.84\\\\E-08};&\\node[fill=lightblue] {4.95\\\\E-05};&\\node[fill=coolgrey] {4.31\\\\E-01};&\\node[fill=white] {\\sysnameTwoPT};&\\node[fill=warmgrey] {0.525};&\\node[fill=warmgrey] {0.536};\\\\\n",
      "\\node[fill=lightblue] {4.97\\\\E-04};&\\node[fill=lightblue] {2.14\\\\E-06};&\\node[fill=lightblue] {4.85\\\\E-08};&\\node[fill=lightblue] {1.76\\\\E-05};&\\node[fill=coolgrey] {3.78\\\\E-01};&\\node[fill=coolgrey] {7.97\\\\E-01};&\\node[fill=white] {\\sysnameLinked};&\\node[fill=lightred] {0.565};\\\\\n",
      "\\node[fill=lightblue] {3.17\\\\E-04};&\\node[fill=lightblue] {2.78\\\\E-06};&\\node[fill=lightblue] {4.85\\\\E-08};&\\node[fill=lightblue] {9.13\\\\E-05};&\\node[fill=coolgrey] {2.78\\\\E-01};&\\node[fill=coolgrey] {7.04\\\\E-01};&\\node[fill=coolgrey] {4.89\\\\E-01};&\\node[fill=white] {\\sysnameNone};\\\\%\n",
      "};\n",
      "\\node[below =-2mm of ant-3H, draw=none] {\\textbf{Ant at 3H}};\n",
      "\\matrix(bcel-3H)[matrix of nodes,right=-1mm of  ant-3H]{%\n",
      "    \\node[fill=white] {\\bedivfuzzSimple};&\\node[fill=darkred] {0.807};&\\node[fill=darkred] {1.000};&\\node[fill=darkred] {1.000};&\\node[fill=darkred] {1.000};&\\node[fill=darkred] {1.000};&\\node[fill=darkred] {1.000};\\\\\n",
      "\\node[fill=lightblue] {9.18\\\\E-04};&\\node[fill=white] {\\bedivfuzzStructure};&\\node[fill=darkred] {0.941};&\\node[fill=darkred] {0.985};&\\node[fill=darkred] {0.979};&\\node[fill=darkred] {1.000};&\\node[fill=darkred] {0.994};\\\\\n",
      "\\node[fill=lightblue] {6.74\\\\E-08};&\\node[fill=lightblue] {1.92\\\\E-06};&\\node[fill=white] {\\zest};&\\node[fill=lightred] {0.591};&\\node[fill=lightred] {0.585};&\\node[fill=darkred] {1.000};&\\node[fill=darkred] {0.779};\\\\\n",
      "\\node[fill=lightblue] {6.66\\\\E-08};&\\node[fill=lightblue] {1.63\\\\E-07};&\\node[fill=coolgrey] {3.29\\\\E-01};&\\node[fill=white] {\\sysnameOnePT};&\\node[fill=warmgrey] {0.537};&\\node[fill=darkred] {0.999};&\\node[fill=darkred] {0.764};\\\\\n",
      "\\node[fill=lightblue] {6.73\\\\E-08};&\\node[fill=lightblue] {2.37\\\\E-07};&\\node[fill=coolgrey] {3.64\\\\E-01};&\\node[fill=coolgrey] {6.94\\\\E-01};&\\node[fill=white] {\\sysnameTwoPT};&\\node[fill=darkred] {1.000};&\\node[fill=darkred] {0.776};\\\\\n",
      "\\node[fill=lightblue] {6.62\\\\E-08};&\\node[fill=lightblue] {6.63\\\\E-08};&\\node[fill=lightblue] {6.62\\\\E-08};&\\node[fill=lightblue] {7.04\\\\E-08};&\\node[fill=lightblue] {6.61\\\\E-08};&\\node[fill=white] {\\sysnameLinked};&\\node[fill=darkred] {0.989};\\\\\n",
      "\\node[fill=lightblue] {6.72\\\\E-08};&\\node[fill=lightblue] {9.79\\\\E-08};&\\node[fill=coolgrey] {2.65\\\\E-03};&\\node[fill=coolgrey] {4.47\\\\E-03};&\\node[fill=coolgrey] {2.90\\\\E-03};&\\node[fill=lightblue] {1.29\\\\E-07};&\\node[fill=white] {\\sysnameNone};\\\\%\n",
      "};\n",
      "\\node[below =-2mm of bcel-3H, draw=none] {\\textbf{Bcel at 3H}};\n",
      "\\matrix(closure-3H)[matrix of nodes,right=-1mm of  bcel-3H]{%\n",
      "    \\node[fill=white] {\\bedivfuzzSimple};&\\node[fill=lightred] {0.575};&\\node[fill=darkred] {1.000};&\\node[fill=darkred] {1.000};&\\node[fill=darkred] {0.887};&\\node[fill=darkred] {0.789};&\\node[fill=darkred] {1.000};&\\node[fill=darkred] {0.953};\\\\\n",
      "\\node[fill=coolgrey] {4.25\\\\E-01};&\\node[fill=white] {\\bedivfuzzStructure};&\\node[fill=darkred] {1.000};&\\node[fill=darkred] {0.995};&\\node[fill=darkred] {0.871};&\\node[fill=darkred] {0.816};&\\node[fill=darkred] {1.000};&\\node[fill=darkred] {0.938};\\\\\n",
      "\\node[fill=lightblue] {6.80\\\\E-08};&\\node[fill=lightblue] {6.80\\\\E-08};&\\node[fill=white] {\\rlcheck};&\\node[fill=darkred] {1.000};&\\node[fill=darkred] {1.000};&\\node[fill=darkred] {1.000};&\\node[fill=darkred] {1.000};&\\node[fill=darkred] {1.000};\\\\\n",
      "\\node[fill=lightblue] {6.79\\\\E-08};&\\node[fill=lightblue] {9.16\\\\E-08};&\\node[fill=lightblue] {6.79\\\\E-08};&\\node[fill=white] {\\zest};&\\node[fill=darkred] {0.946};&\\node[fill=darkred] {0.988};&\\node[fill=darkred] {0.892};&\\node[fill=darkred] {0.874};\\\\\n",
      "\\node[fill=lightblue] {2.92\\\\E-05};&\\node[fill=lightblue] {6.24\\\\E-05};&\\node[fill=lightblue] {6.80\\\\E-08};&\\node[fill=lightblue] {1.47\\\\E-06};&\\node[fill=white] {\\sysnameOnePT};&\\node[fill=darkred] {0.718};&\\node[fill=darkred] {1.000};&\\node[fill=red] {0.701};\\\\\n",
      "\\node[fill=coolgrey] {1.86\\\\E-03};&\\node[fill=lightblue] {6.53\\\\E-04};&\\node[fill=lightblue] {6.79\\\\E-08};&\\node[fill=lightblue] {1.43\\\\E-07};&\\node[fill=coolgrey] {1.93\\\\E-02};&\\node[fill=white] {\\sysnameTwoPT};&\\node[fill=darkred] {1.000};&\\node[fill=darkred] {0.860};\\\\\n",
      "\\node[fill=lightblue] {6.80\\\\E-08};&\\node[fill=lightblue] {6.80\\\\E-08};&\\node[fill=lightblue] {6.80\\\\E-08};&\\node[fill=lightblue] {2.30\\\\E-05};&\\node[fill=lightblue] {6.80\\\\E-08};&\\node[fill=lightblue] {6.79\\\\E-08};&\\node[fill=white] {\\sysnameLinked};&\\node[fill=darkred] {1.000};\\\\\n",
      "\\node[fill=lightblue] {1.05\\\\E-06};&\\node[fill=lightblue] {2.36\\\\E-06};&\\node[fill=lightblue] {6.80\\\\E-08};&\\node[fill=lightblue] {5.56\\\\E-05};&\\node[fill=coolgrey] {3.05\\\\E-02};&\\node[fill=lightblue] {1.04\\\\E-04};&\\node[fill=lightblue] {6.80\\\\E-08};&\\node[fill=white] {\\sysnameNone};\\\\%\n",
      "};\n",
      "\\node[below =-2mm of closure-3H, draw=none] {\\textbf{Closure at 3H}};\n",
      "\\matrix(maven-3H)[matrix of nodes,right=-1mm of  closure-3H]{%\n",
      "    \\node[fill=white] {\\bedivfuzzSimple};&\\node[fill=darkred] {0.968};&\\node[fill=darkred] {0.950};&\\node[fill=darkred] {1.000};&\\node[fill=darkred] {1.000};&\\node[fill=darkred] {1.000};&\\node[fill=darkred] {1.000};&\\node[fill=darkred] {1.000};\\\\\n",
      "\\node[fill=lightblue] {4.52\\\\E-07};&\\node[fill=white] {\\bedivfuzzStructure};&\\node[fill=darkred] {0.800};&\\node[fill=darkred] {1.000};&\\node[fill=darkred] {1.000};&\\node[fill=darkred] {1.000};&\\node[fill=darkred] {1.000};&\\node[fill=darkred] {1.000};\\\\\n",
      "\\node[fill=lightblue] {2.10\\\\E-07};&\\node[fill=lightblue] {5.49\\\\E-04};&\\node[fill=white] {\\rlcheck};&\\node[fill=darkred] {1.000};&\\node[fill=darkred] {1.000};&\\node[fill=darkred] {1.000};&\\node[fill=darkred] {1.000};&\\node[fill=darkred] {1.000};\\\\\n",
      "\\node[fill=lightblue] {6.76\\\\E-08};&\\node[fill=lightblue] {6.77\\\\E-08};&\\node[fill=lightblue] {7.98\\\\E-09};&\\node[fill=white] {\\zest};&\\node[fill=darkred] {1.000};&\\node[fill=darkred] {0.988};&\\node[fill=darkred] {1.000};&\\node[fill=darkred] {1.000};\\\\\n",
      "\\node[fill=lightblue] {3.78\\\\E-08};&\\node[fill=lightblue] {3.78\\\\E-08};&\\node[fill=lightblue] {3.73\\\\E-09};&\\node[fill=lightblue] {3.78\\\\E-08};&\\node[fill=white] {\\sysnameOnePT};&\\node[fill=darkred] {0.906};&\\node[fill=lightred] {0.604};&\\node[fill=lightred] {0.627};\\\\\n",
      "\\node[fill=lightblue] {6.65\\\\E-08};&\\node[fill=lightblue] {6.66\\\\E-08};&\\node[fill=lightblue] {7.82\\\\E-09};&\\node[fill=lightblue] {1.40\\\\E-07};&\\node[fill=lightblue] {6.57\\\\E-06};&\\node[fill=white] {\\sysnameTwoPT};&\\node[fill=darkred] {0.960};&\\node[fill=darkred] {0.965};\\\\\n",
      "\\node[fill=lightblue] {1.94\\\\E-08};&\\node[fill=lightblue] {1.94\\\\E-08};&\\node[fill=lightblue] {1.54\\\\E-09};&\\node[fill=lightblue] {1.94\\\\E-08};&\\node[fill=coolgrey] {1.41\\\\E-01};&\\node[fill=lightblue] {1.81\\\\E-07};&\\node[fill=white] {\\sysnameLinked};&\\node[fill=warmgrey] {0.525};\\\\\n",
      "\\node[fill=lightblue] {1.51\\\\E-08};&\\node[fill=lightblue] {1.51\\\\E-08};&\\node[fill=lightblue] {1.10\\\\E-09};&\\node[fill=lightblue] {1.51\\\\E-08};&\\node[fill=coolgrey] {5.98\\\\E-02};&\\node[fill=lightblue] {1.05\\\\E-07};&\\node[fill=coolgrey] {6.54\\\\E-01};&\\node[fill=white] {\\sysnameNone};\\\\%\n",
      "};\n",
      "\\node[below =-2mm of maven-3H, draw=none] {\\textbf{Maven at 3H}};\n",
      "\\matrix(nashorn-3H)[matrix of nodes,right=-1mm of  maven-3H]{%\n",
      "    \\node[fill=white] {\\bedivfuzzSimple};&\\node[fill=warmgrey] {0.512};&\\node[fill=darkred] {1.000};&\\node[fill=darkred] {1.000};&\\node[fill=darkred] {1.000};&\\node[fill=darkred] {1.000};&\\node[fill=darkred] {1.000};&\\node[fill=darkred] {1.000};\\\\\n",
      "\\node[fill=coolgrey] {9.03\\\\E-01};&\\node[fill=white] {\\bedivfuzzStructure};&\\node[fill=darkred] {1.000};&\\node[fill=darkred] {1.000};&\\node[fill=darkred] {1.000};&\\node[fill=darkred] {1.000};&\\node[fill=darkred] {1.000};&\\node[fill=darkred] {1.000};\\\\\n",
      "\\node[fill=lightblue] {7.98\\\\E-09};&\\node[fill=lightblue] {8.01\\\\E-09};&\\node[fill=white] {\\rlcheck};&\\node[fill=darkred] {1.000};&\\node[fill=darkred] {1.000};&\\node[fill=darkred] {1.000};&\\node[fill=darkred] {1.000};&\\node[fill=darkred] {1.000};\\\\\n",
      "\\node[fill=lightblue] {6.77\\\\E-08};&\\node[fill=lightblue] {6.79\\\\E-08};&\\node[fill=lightblue] {7.99\\\\E-09};&\\node[fill=white] {\\zest};&\\node[fill=darkred] {1.000};&\\node[fill=darkred] {1.000};&\\node[fill=darkred] {1.000};&\\node[fill=darkred] {1.000};\\\\\n",
      "\\node[fill=lightblue] {6.77\\\\E-08};&\\node[fill=lightblue] {6.79\\\\E-08};&\\node[fill=lightblue] {7.99\\\\E-09};&\\node[fill=lightblue] {6.78\\\\E-08};&\\node[fill=white] {\\sysnameOnePT};&\\node[fill=darkred] {0.715};&\\node[fill=darkred] {0.953};&\\node[fill=red] {0.705};\\\\\n",
      "\\node[fill=lightblue] {6.78\\\\E-08};&\\node[fill=lightblue] {6.80\\\\E-08};&\\node[fill=lightblue] {8.01\\\\E-09};&\\node[fill=lightblue] {6.79\\\\E-08};&\\node[fill=coolgrey] {2.07\\\\E-02};&\\node[fill=white] {\\sysnameTwoPT};&\\node[fill=darkred] {1.000};&\\node[fill=darkred] {0.887};\\\\\n",
      "\\node[fill=lightblue] {6.76\\\\E-08};&\\node[fill=lightblue] {6.78\\\\E-08};&\\node[fill=lightblue] {7.98\\\\E-09};&\\node[fill=lightblue] {6.77\\\\E-08};&\\node[fill=lightblue] {1.04\\\\E-06};&\\node[fill=lightblue] {6.78\\\\E-08};&\\node[fill=white] {\\sysnameLinked};&\\node[fill=darkred] {0.993};\\\\\n",
      "\\node[fill=lightblue] {6.76\\\\E-08};&\\node[fill=lightblue] {6.78\\\\E-08};&\\node[fill=lightblue] {7.98\\\\E-09};&\\node[fill=lightblue] {6.77\\\\E-08};&\\node[fill=coolgrey] {2.74\\\\E-02};&\\node[fill=lightblue] {2.92\\\\E-05};&\\node[fill=lightblue] {1.06\\\\E-07};&\\node[fill=white] {\\sysnameNone};\\\\%\n",
      "};\n",
      "\\node[below =-2mm of nashorn-3H, draw=none] {\\textbf{Nashorn at 3H}};\n",
      "\\matrix(rhino-3H)[matrix of nodes,right=-1mm of  nashorn-3H]{%\n",
      "    \\node[fill=white] {\\bedivfuzzSimple};&\\node[fill=lightred] {0.575};&\\node[fill=darkred] {1.000};&\\node[fill=darkred] {1.000};&\\node[fill=darkred] {1.000};&\\node[fill=darkred] {1.000};&\\node[fill=darkred] {1.000};&\\node[fill=darkred] {1.000};\\\\\n",
      "\\node[fill=coolgrey] {4.24\\\\E-01};&\\node[fill=white] {\\bedivfuzzStructure};&\\node[fill=darkred] {1.000};&\\node[fill=darkred] {1.000};&\\node[fill=darkred] {1.000};&\\node[fill=darkred] {1.000};&\\node[fill=darkred] {1.000};&\\node[fill=darkred] {1.000};\\\\\n",
      "\\node[fill=lightblue] {1.50\\\\E-08};&\\node[fill=lightblue] {1.51\\\\E-08};&\\node[fill=white] {\\rlcheck};&\\node[fill=darkred] {1.000};&\\node[fill=darkred] {1.000};&\\node[fill=darkred] {1.000};&\\node[fill=darkred] {1.000};&\\node[fill=darkred] {1.000};\\\\\n",
      "\\node[fill=lightblue] {6.72\\\\E-08};&\\node[fill=lightblue] {6.76\\\\E-08};&\\node[fill=lightblue] {1.51\\\\E-08};&\\node[fill=white] {\\zest};&\\node[fill=darkred] {0.958};&\\node[fill=darkred] {0.973};&\\node[fill=darkred] {0.995};&\\node[fill=darkred] {0.975};\\\\\n",
      "\\node[fill=lightblue] {6.72\\\\E-08};&\\node[fill=lightblue] {6.76\\\\E-08};&\\node[fill=lightblue] {1.51\\\\E-08};&\\node[fill=lightblue] {7.93\\\\E-07};&\\node[fill=white] {\\sysnameOnePT};&\\node[fill=red] {0.652};&\\node[fill=darkred] {0.829};&\\node[fill=lightred] {0.637};\\\\\n",
      "\\node[fill=lightblue] {6.73\\\\E-08};&\\node[fill=lightblue] {6.77\\\\E-08};&\\node[fill=lightblue] {1.51\\\\E-08};&\\node[fill=lightblue] {3.41\\\\E-07};&\\node[fill=coolgrey] {1.02\\\\E-01};&\\node[fill=white] {\\sysnameTwoPT};&\\node[fill=darkred] {0.890};&\\node[fill=warmgrey] {0.546};\\\\\n",
      "\\node[fill=lightblue] {6.72\\\\E-08};&\\node[fill=lightblue] {6.76\\\\E-08};&\\node[fill=lightblue] {1.51\\\\E-08};&\\node[fill=lightblue] {9.15\\\\E-08};&\\node[fill=lightblue] {3.94\\\\E-04};&\\node[fill=lightblue] {2.59\\\\E-05};&\\node[fill=white] {\\sysnameLinked};&\\node[fill=darkred] {0.895};\\\\\n",
      "\\node[fill=lightblue] {6.73\\\\E-08};&\\node[fill=lightblue] {6.77\\\\E-08};&\\node[fill=lightblue] {1.51\\\\E-08};&\\node[fill=lightblue] {2.96\\\\E-07};&\\node[fill=coolgrey] {1.40\\\\E-01};&\\node[fill=coolgrey] {6.26\\\\E-01};&\\node[fill=lightblue] {2.04\\\\E-05};&\\node[fill=white] {\\sysnameNone};\\\\%\n",
      "};\n",
      "\\node[below =-2mm of rhino-3H, draw=none] {\\textbf{Rhino at 3H}};\n",
      "\\matrix(tomcat-3H)[matrix of nodes,right=-1mm of  rhino-3H]{%\n",
      "    \\node[fill=white] {\\bedivfuzzSimple};&\\node[fill=darkred] {1.000};&\\node[fill=darkred] {0.824};&\\node[fill=warmgrey] {0.501};&\\node[fill=darkred] {0.752};&\\node[fill=warmgrey] {0.512};&\\node[fill=darkred] {0.782};&\\node[fill=darkred] {0.805};\\\\\n",
      "\\node[fill=lightblue] {6.48\\\\E-08};&\\node[fill=white] {\\bedivfuzzStructure};&\\node[fill=darkred] {1.000};&\\node[fill=darkred] {1.000};&\\node[fill=darkred] {1.000};&\\node[fill=darkred] {1.000};&\\node[fill=darkred] {1.000};&\\node[fill=darkred] {1.000};\\\\\n",
      "\\node[fill=lightblue] {3.21\\\\E-04};&\\node[fill=lightblue] {3.77\\\\E-08};&\\node[fill=white] {\\rlcheck};&\\node[fill=darkred] {0.807};&\\node[fill=darkred] {0.999};&\\node[fill=darkred] {0.879};&\\node[fill=darkred] {0.965};&\\node[fill=darkred] {0.965};\\\\\n",
      "\\node[fill=coolgrey] {1.00\\\\E+00};&\\node[fill=lightblue] {6.62\\\\E-08};&\\node[fill=lightblue] {6.84\\\\E-04};&\\node[fill=white] {\\zest};&\\node[fill=darkred] {0.735};&\\node[fill=warmgrey] {0.521};&\\node[fill=darkred] {0.756};&\\node[fill=darkred] {0.797};\\\\\n",
      "\\node[fill=coolgrey] {6.19\\\\E-03};&\\node[fill=lightblue] {6.50\\\\E-08};&\\node[fill=lightblue] {3.93\\\\E-08};&\\node[fill=coolgrey] {1.09\\\\E-02};&\\node[fill=white] {\\sysnameOnePT};&\\node[fill=darkred] {0.776};&\\node[fill=lightred] {0.561};&\\node[fill=lightred] {0.621};\\\\\n",
      "\\node[fill=coolgrey] {9.03\\\\E-01};&\\node[fill=lightblue] {6.58\\\\E-08};&\\node[fill=lightblue] {2.83\\\\E-05};&\\node[fill=coolgrey] {8.28\\\\E-01};&\\node[fill=coolgrey] {2.73\\\\E-03};&\\node[fill=white] {\\sysnameTwoPT};&\\node[fill=darkred] {0.806};&\\node[fill=darkred] {0.838};\\\\\n",
      "\\node[fill=coolgrey] {2.12\\\\E-03};&\\node[fill=lightblue] {5.92\\\\E-08};&\\node[fill=lightblue] {2.78\\\\E-07};&\\node[fill=coolgrey] {5.17\\\\E-03};&\\node[fill=coolgrey] {5.09\\\\E-01};&\\node[fill=lightblue] {8.81\\\\E-04};&\\node[fill=white] {\\sysnameLinked};&\\node[fill=lightred] {0.585};\\\\\n",
      "\\node[fill=lightblue] {9.19\\\\E-04};&\\node[fill=lightblue] {6.30\\\\E-08};&\\node[fill=lightblue] {2.95\\\\E-07};&\\node[fill=lightblue] {1.24\\\\E-03};&\\node[fill=coolgrey] {1.89\\\\E-01};&\\node[fill=lightblue] {2.52\\\\E-04};&\\node[fill=coolgrey] {3.54\\\\E-01};&\\node[fill=white] {\\sysnameNone};\\\\%\n",
      "};\n",
      "\\node[below =-2mm of tomcat-3H, draw=none] {\\textbf{Tomcat at 3H}};\n"
     ]
    }
   ],
   "source": [
    "def fix_names(text):\n",
    "    return text.replace(\"Zeugma-1PT\", r\"\\sysnameOnePT\") \\\n",
    "        .replace(\"Zeugma-2PT\", r\"\\sysnameTwoPT\") \\\n",
    "        .replace(\"Zeugma-Link\", r\"\\sysnameLinked\") \\\n",
    "        .replace(\"Zeugma-X\", r\"\\sysnameNone\") \\\n",
    "        .replace(\"RLCheck\", r\"\\rlcheck\") \\\n",
    "        .replace(\"Zest\", r\"\\zest\") \\\n",
    "        .replace(\"BeDiv-Simple\", r\"\\bedivfuzzSimple\") \\\n",
    "        .replace(\"BeDiv-Struct\", r\"\\bedivfuzzStructure\")\n",
    "\n",
    "\n",
    "for time in times:\n",
    "    prev = None\n",
    "    for subject in subjects:\n",
    "        selected = report_util.select(coverage, time=time, subject=subject)\n",
    "        name = f'{subject.lower()}-{report_util.format_time_delta(time)}'\n",
    "        t = TEMPLATE.replace(\"$0\", name) \\\n",
    "            .replace(\"$1\", compute_pairwise(selected, 'fuzzer', 'covered_branches')) \\\n",
    "            .replace('$2', f'{subject.title()} at {report_util.format_time_delta(time)}') \\\n",
    "            .replace(\"$3\", f\",right=-1mm of  {prev}\" if prev is not None else '')\n",
    "        prev = name\n",
    "        print(fix_names(t))"
   ],
   "metadata": {
    "collapsed": false,
    "ExecuteTime": {
     "end_time": "2023-07-14T14:49:05.248007191Z",
     "start_time": "2023-07-14T14:48:58.945592104Z"
    }
   }
  }
 ],
 "metadata": {
  "kernelspec": {
   "display_name": "Python 3",
   "language": "python",
   "name": "python3"
  },
  "language_info": {
   "codemirror_mode": {
    "name": "ipython",
    "version": 2
   },
   "file_extension": ".py",
   "mimetype": "text/x-python",
   "name": "python",
   "nbconvert_exporter": "python",
   "pygments_lexer": "ipython2",
   "version": "2.7.6"
  }
 },
 "nbformat": 4,
 "nbformat_minor": 0
}
