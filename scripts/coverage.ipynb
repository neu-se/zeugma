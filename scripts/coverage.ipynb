{
 "cells": [
  {
   "cell_type": "code",
   "execution_count": 4,
   "metadata": {
    "collapsed": true,
    "ExecuteTime": {
     "end_time": "2023-07-11T16:25:10.378192558Z",
     "start_time": "2023-07-11T16:25:06.987668541Z"
    }
   },
   "outputs": [
    {
     "data": {
      "text/plain": "   campaign_id        fuzzer subject                      time  \\\n0            0  BeDiv-Simple     Ant           0 days 00:00:00   \n1            0  BeDiv-Simple     Ant 0 days 00:00:10.810810810   \n2            0  BeDiv-Simple     Ant 0 days 00:00:21.621621621   \n3            0  BeDiv-Simple     Ant 0 days 00:00:32.432432432   \n4            0  BeDiv-Simple     Ant 0 days 00:00:43.243243243   \n\n   covered_branches  \n0                59  \n1                66  \n2                68  \n3                68  \n4                68  ",
      "text/html": "<div>\n<style scoped>\n    .dataframe tbody tr th:only-of-type {\n        vertical-align: middle;\n    }\n\n    .dataframe tbody tr th {\n        vertical-align: top;\n    }\n\n    .dataframe thead th {\n        text-align: right;\n    }\n</style>\n<table border=\"1\" class=\"dataframe\">\n  <thead>\n    <tr style=\"text-align: right;\">\n      <th></th>\n      <th>campaign_id</th>\n      <th>fuzzer</th>\n      <th>subject</th>\n      <th>time</th>\n      <th>covered_branches</th>\n    </tr>\n  </thead>\n  <tbody>\n    <tr>\n      <th>0</th>\n      <td>0</td>\n      <td>BeDiv-Simple</td>\n      <td>Ant</td>\n      <td>0 days 00:00:00</td>\n      <td>59</td>\n    </tr>\n    <tr>\n      <th>1</th>\n      <td>0</td>\n      <td>BeDiv-Simple</td>\n      <td>Ant</td>\n      <td>0 days 00:00:10.810810810</td>\n      <td>66</td>\n    </tr>\n    <tr>\n      <th>2</th>\n      <td>0</td>\n      <td>BeDiv-Simple</td>\n      <td>Ant</td>\n      <td>0 days 00:00:21.621621621</td>\n      <td>68</td>\n    </tr>\n    <tr>\n      <th>3</th>\n      <td>0</td>\n      <td>BeDiv-Simple</td>\n      <td>Ant</td>\n      <td>0 days 00:00:32.432432432</td>\n      <td>68</td>\n    </tr>\n    <tr>\n      <th>4</th>\n      <td>0</td>\n      <td>BeDiv-Simple</td>\n      <td>Ant</td>\n      <td>0 days 00:00:43.243243243</td>\n      <td>68</td>\n    </tr>\n  </tbody>\n</table>\n</div>"
     },
     "execution_count": 4,
     "metadata": {},
     "output_type": "execute_result"
    }
   ],
   "source": [
    "import pandas as pd\n",
    "\n",
    "import extract_coverage\n",
    "import report_util\n",
    "import tables\n",
    "\n",
    "coverage = extract_coverage.read_coverage_csv('../data/coverage.csv')\n",
    "coverage.head()"
   ]
  },
  {
   "cell_type": "code",
   "execution_count": null,
   "outputs": [],
   "source": [
    "def create_rows(data, time, subject):\n",
    "    data = data[data['time'] == time]\n",
    "    data = data[data['subject'] == subject]\n",
    "    fuzzers = sorted(data['fuzzer'].unique())\n",
    "    rows = []\n",
    "    values1 = data[data['fuzzer'] == 'Zeugma-Linked']['covered_branches']\n",
    "    significance_level = 0.05 / (len(fuzzers) * (len(fuzzers) - 1) / 2)\n",
    "    for fuzzer in fuzzers:\n",
    "        values2 = data[data['fuzzer'] == fuzzer]['covered_branches']\n",
    "        sig = 'color: red;' if report_util.mann_whitney(values1, values2) < significance_level else ''\n",
    "        rows.append([time, subject, fuzzer, values2.median(), sig])\n",
    "    return pd.DataFrame(rows, columns=['time', 'subject', 'fuzzer', 'median', 'sig'])\n",
    "\n",
    "\n",
    "def create_sig_table(data, times):\n",
    "    return pd.concat(\n",
    "        [create_rows(data, time, subject) for time in times for subject in sorted(data['subject'].unique())])\n",
    "\n",
    "\n",
    "times = [pd.to_timedelta(5, 'm'), pd.to_timedelta(3, 'h')]\n",
    "coverage = extract_coverage.read_coverage_csv('../data/coverage.csv')\n",
    "table = create_sig_table(coverage, times)\n",
    "medians = tables.pivot(table, 'subject', 'fuzzer', 'median')\n",
    "sigs = tables.pivot(table, 'subject', 'fuzzer', 'sig')\n",
    "styler = tables.style_table(medians, precision=1, axis=0).apply(lambda _: sigs, axis=None)\n",
    "display(styler)\n",
    "print(styler.to_latex(multicol_align='c', hrules=True, multirow_align='t', convert_css=True))"
   ],
   "metadata": {
    "collapsed": false
   }
  }
 ],
 "metadata": {
  "kernelspec": {
   "display_name": "Python 3",
   "language": "python",
   "name": "python3"
  },
  "language_info": {
   "codemirror_mode": {
    "name": "ipython",
    "version": 2
   },
   "file_extension": ".py",
   "mimetype": "text/x-python",
   "name": "python",
   "nbconvert_exporter": "python",
   "pygments_lexer": "ipython2",
   "version": "2.7.6"
  }
 },
 "nbformat": 4,
 "nbformat_minor": 0
}
