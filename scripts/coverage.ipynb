{
 "cells": [
  {
   "cell_type": "code",
   "execution_count": 1,
   "metadata": {
    "collapsed": true,
    "ExecuteTime": {
     "end_time": "2023-07-10T19:58:10.000225455Z",
     "start_time": "2023-07-10T19:58:05.269625324Z"
    }
   },
   "outputs": [
    {
     "data": {
      "text/plain": "<pandas.io.formats.style.Styler at 0x7fba6d6ee3e0>",
      "text/html": "<style type=\"text/css\">\n#T_7b503_row0_col0, #T_7b503_row0_col1, #T_7b503_row0_col2, #T_7b503_row0_col3, #T_7b503_row0_col4, #T_7b503_row0_col5, #T_7b503_row0_col6, #T_7b503_row0_col7, #T_7b503_row0_col8, #T_7b503_row0_col9, #T_7b503_row0_col10, #T_7b503_row0_col11, #T_7b503_row0_col12, #T_7b503_row1_col0, #T_7b503_row1_col1, #T_7b503_row1_col2, #T_7b503_row1_col3, #T_7b503_row1_col4, #T_7b503_row1_col5, #T_7b503_row1_col6, #T_7b503_row1_col7, #T_7b503_row1_col8, #T_7b503_row1_col9, #T_7b503_row1_col10, #T_7b503_row1_col11, #T_7b503_row1_col12, #T_7b503_row1_col13, #T_7b503_row2_col0, #T_7b503_row2_col1, #T_7b503_row2_col4, #T_7b503_row2_col5, #T_7b503_row2_col6, #T_7b503_row2_col7, #T_7b503_row2_col8, #T_7b503_row2_col9, #T_7b503_row2_col10, #T_7b503_row2_col11, #T_7b503_row2_col13, #T_7b503_row3_col3, #T_7b503_row3_col4, #T_7b503_row3_col5, #T_7b503_row3_col6, #T_7b503_row3_col7, #T_7b503_row3_col8, #T_7b503_row3_col9, #T_7b503_row3_col10, #T_7b503_row3_col11, #T_7b503_row4_col3, #T_7b503_row4_col5, #T_7b503_row4_col8, #T_7b503_row4_col9, #T_7b503_row4_col10, #T_7b503_row4_col11, #T_7b503_row5_col3, #T_7b503_row5_col4, #T_7b503_row5_col5, #T_7b503_row5_col8, #T_7b503_row5_col9, #T_7b503_row5_col10, #T_7b503_row5_col11, #T_7b503_row6_col2, #T_7b503_row6_col3, #T_7b503_row6_col4, #T_7b503_row6_col5, #T_7b503_row6_col6, #T_7b503_row6_col7, #T_7b503_row6_col8, #T_7b503_row6_col9, #T_7b503_row6_col10, #T_7b503_row6_col11, #T_7b503_row6_col13 {\n  color: red;\n}\n#T_7b503_row2_col12, #T_7b503_row4_col7, #T_7b503_row4_col13, #T_7b503_row5_col7, #T_7b503_row7_col0, #T_7b503_row7_col2, #T_7b503_row7_col3, #T_7b503_row7_col4, #T_7b503_row7_col5, #T_7b503_row7_col6, #T_7b503_row7_col7, #T_7b503_row7_col8, #T_7b503_row7_col9, #T_7b503_row7_col10, #T_7b503_row7_col11, #T_7b503_row7_col13 {\n  background-color: yellow;\n}\n#T_7b503_row3_col1 {\n  background-color: yellow;\n  color: red;\n}\n</style>\n<table id=\"T_7b503\">\n  <thead>\n    <tr>\n      <th class=\"index_name level0\" >Subject</th>\n      <th id=\"T_7b503_level0_col0\" class=\"col_heading level0 col0\" colspan=\"2\">Ant</th>\n      <th id=\"T_7b503_level0_col2\" class=\"col_heading level0 col2\" colspan=\"2\">Bcel</th>\n      <th id=\"T_7b503_level0_col4\" class=\"col_heading level0 col4\" colspan=\"2\">Closure</th>\n      <th id=\"T_7b503_level0_col6\" class=\"col_heading level0 col6\" colspan=\"2\">Maven</th>\n      <th id=\"T_7b503_level0_col8\" class=\"col_heading level0 col8\" colspan=\"2\">Nashorn</th>\n      <th id=\"T_7b503_level0_col10\" class=\"col_heading level0 col10\" colspan=\"2\">Rhino</th>\n      <th id=\"T_7b503_level0_col12\" class=\"col_heading level0 col12\" colspan=\"2\">Tomcat</th>\n    </tr>\n    <tr>\n      <th class=\"blank level1\" >&nbsp;</th>\n      <th id=\"T_7b503_level1_col0\" class=\"col_heading level1 col0\" >5M</th>\n      <th id=\"T_7b503_level1_col1\" class=\"col_heading level1 col1\" >3H</th>\n      <th id=\"T_7b503_level1_col2\" class=\"col_heading level1 col2\" >5M</th>\n      <th id=\"T_7b503_level1_col3\" class=\"col_heading level1 col3\" >3H</th>\n      <th id=\"T_7b503_level1_col4\" class=\"col_heading level1 col4\" >5M</th>\n      <th id=\"T_7b503_level1_col5\" class=\"col_heading level1 col5\" >3H</th>\n      <th id=\"T_7b503_level1_col6\" class=\"col_heading level1 col6\" >5M</th>\n      <th id=\"T_7b503_level1_col7\" class=\"col_heading level1 col7\" >3H</th>\n      <th id=\"T_7b503_level1_col8\" class=\"col_heading level1 col8\" >5M</th>\n      <th id=\"T_7b503_level1_col9\" class=\"col_heading level1 col9\" >3H</th>\n      <th id=\"T_7b503_level1_col10\" class=\"col_heading level1 col10\" >5M</th>\n      <th id=\"T_7b503_level1_col11\" class=\"col_heading level1 col11\" >3H</th>\n      <th id=\"T_7b503_level1_col12\" class=\"col_heading level1 col12\" >5M</th>\n      <th id=\"T_7b503_level1_col13\" class=\"col_heading level1 col13\" >3H</th>\n    </tr>\n    <tr>\n      <th class=\"index_name level0\" >Fuzzer</th>\n      <th class=\"blank col0\" >&nbsp;</th>\n      <th class=\"blank col1\" >&nbsp;</th>\n      <th class=\"blank col2\" >&nbsp;</th>\n      <th class=\"blank col3\" >&nbsp;</th>\n      <th class=\"blank col4\" >&nbsp;</th>\n      <th class=\"blank col5\" >&nbsp;</th>\n      <th class=\"blank col6\" >&nbsp;</th>\n      <th class=\"blank col7\" >&nbsp;</th>\n      <th class=\"blank col8\" >&nbsp;</th>\n      <th class=\"blank col9\" >&nbsp;</th>\n      <th class=\"blank col10\" >&nbsp;</th>\n      <th class=\"blank col11\" >&nbsp;</th>\n      <th class=\"blank col12\" >&nbsp;</th>\n      <th class=\"blank col13\" >&nbsp;</th>\n    </tr>\n  </thead>\n  <tbody>\n    <tr>\n      <th id=\"T_7b503_level0_row0\" class=\"row_heading level0 row0\" >BeDivFuzz-Simple</th>\n      <td id=\"T_7b503_row0_col0\" class=\"data row0 col0\" >755.0</td>\n      <td id=\"T_7b503_row0_col1\" class=\"data row0 col1\" >899.0</td>\n      <td id=\"T_7b503_row0_col2\" class=\"data row0 col2\" >1435.5</td>\n      <td id=\"T_7b503_row0_col3\" class=\"data row0 col3\" >1846.5</td>\n      <td id=\"T_7b503_row0_col4\" class=\"data row0 col4\" >9328.0</td>\n      <td id=\"T_7b503_row0_col5\" class=\"data row0 col5\" >11863.5</td>\n      <td id=\"T_7b503_row0_col6\" class=\"data row0 col6\" >590.5</td>\n      <td id=\"T_7b503_row0_col7\" class=\"data row0 col7\" >738.0</td>\n      <td id=\"T_7b503_row0_col8\" class=\"data row0 col8\" >3008.5</td>\n      <td id=\"T_7b503_row0_col9\" class=\"data row0 col9\" >3319.5</td>\n      <td id=\"T_7b503_row0_col10\" class=\"data row0 col10\" >2952.0</td>\n      <td id=\"T_7b503_row0_col11\" class=\"data row0 col11\" >3235.5</td>\n      <td id=\"T_7b503_row0_col12\" class=\"data row0 col12\" >274.5</td>\n      <td id=\"T_7b503_row0_col13\" class=\"data row0 col13\" >341.0</td>\n    </tr>\n    <tr>\n      <th id=\"T_7b503_level0_row1\" class=\"row_heading level0 row1\" >BeDivFuzz-Structure</th>\n      <td id=\"T_7b503_row1_col0\" class=\"data row1 col0\" >786.5</td>\n      <td id=\"T_7b503_row1_col1\" class=\"data row1 col1\" >896.5</td>\n      <td id=\"T_7b503_row1_col2\" class=\"data row1 col2\" >1412.5</td>\n      <td id=\"T_7b503_row1_col3\" class=\"data row1 col3\" >1876.5</td>\n      <td id=\"T_7b503_row1_col4\" class=\"data row1 col4\" >9336.5</td>\n      <td id=\"T_7b503_row1_col5\" class=\"data row1 col5\" >11904.5</td>\n      <td id=\"T_7b503_row1_col6\" class=\"data row1 col6\" >578.5</td>\n      <td id=\"T_7b503_row1_col7\" class=\"data row1 col7\" >641.5</td>\n      <td id=\"T_7b503_row1_col8\" class=\"data row1 col8\" >2993.5</td>\n      <td id=\"T_7b503_row1_col9\" class=\"data row1 col9\" >3092.0</td>\n      <td id=\"T_7b503_row1_col10\" class=\"data row1 col10\" >2915.5</td>\n      <td id=\"T_7b503_row1_col11\" class=\"data row1 col11\" >3237.0</td>\n      <td id=\"T_7b503_row1_col12\" class=\"data row1 col12\" >161.0</td>\n      <td id=\"T_7b503_row1_col13\" class=\"data row1 col13\" >242.5</td>\n    </tr>\n    <tr>\n      <th id=\"T_7b503_level0_row2\" class=\"row_heading level0 row2\" >RLCheck</th>\n      <td id=\"T_7b503_row2_col0\" class=\"data row2 col0\" >769.0</td>\n      <td id=\"T_7b503_row2_col1\" class=\"data row2 col1\" >889.0</td>\n      <td id=\"T_7b503_row2_col2\" class=\"data row2 col2\" >---</td>\n      <td id=\"T_7b503_row2_col3\" class=\"data row2 col3\" >---</td>\n      <td id=\"T_7b503_row2_col4\" class=\"data row2 col4\" >8262.5</td>\n      <td id=\"T_7b503_row2_col5\" class=\"data row2 col5\" >9480.5</td>\n      <td id=\"T_7b503_row2_col6\" class=\"data row2 col6\" >579.0</td>\n      <td id=\"T_7b503_row2_col7\" class=\"data row2 col7\" >663.0</td>\n      <td id=\"T_7b503_row2_col8\" class=\"data row2 col8\" >1298.0</td>\n      <td id=\"T_7b503_row2_col9\" class=\"data row2 col9\" >1298.0</td>\n      <td id=\"T_7b503_row2_col10\" class=\"data row2 col10\" >2627.0</td>\n      <td id=\"T_7b503_row2_col11\" class=\"data row2 col11\" >2730.0</td>\n      <td id=\"T_7b503_row2_col12\" class=\"data row2 col12\" >299.0</td>\n      <td id=\"T_7b503_row2_col13\" class=\"data row2 col13\" >338.0</td>\n    </tr>\n    <tr>\n      <th id=\"T_7b503_level0_row3\" class=\"row_heading level0 row3\" >Zest</th>\n      <td id=\"T_7b503_row3_col0\" class=\"data row3 col0\" >820.0</td>\n      <td id=\"T_7b503_row3_col1\" class=\"data row3 col1\" >927.0</td>\n      <td id=\"T_7b503_row3_col2\" class=\"data row3 col2\" >1516.5</td>\n      <td id=\"T_7b503_row3_col3\" class=\"data row3 col3\" >1909.5</td>\n      <td id=\"T_7b503_row3_col4\" class=\"data row3 col4\" >9782.5</td>\n      <td id=\"T_7b503_row3_col5\" class=\"data row3 col5\" >12352.0</td>\n      <td id=\"T_7b503_row3_col6\" class=\"data row3 col6\" >778.5</td>\n      <td id=\"T_7b503_row3_col7\" class=\"data row3 col7\" >1098.5</td>\n      <td id=\"T_7b503_row3_col8\" class=\"data row3 col8\" >2654.5</td>\n      <td id=\"T_7b503_row3_col9\" class=\"data row3 col9\" >2717.0</td>\n      <td id=\"T_7b503_row3_col10\" class=\"data row3 col10\" >3108.5</td>\n      <td id=\"T_7b503_row3_col11\" class=\"data row3 col11\" >3408.0</td>\n      <td id=\"T_7b503_row3_col12\" class=\"data row3 col12\" >295.0</td>\n      <td id=\"T_7b503_row3_col13\" class=\"data row3 col13\" >340.0</td>\n    </tr>\n    <tr>\n      <th id=\"T_7b503_level0_row4\" class=\"row_heading level0 row4\" >Zeugma</th>\n      <td id=\"T_7b503_row4_col0\" class=\"data row4 col0\" >835.5</td>\n      <td id=\"T_7b503_row4_col1\" class=\"data row4 col1\" >911.0</td>\n      <td id=\"T_7b503_row4_col2\" class=\"data row4 col2\" >1480.5</td>\n      <td id=\"T_7b503_row4_col3\" class=\"data row4 col3\" >1927.0</td>\n      <td id=\"T_7b503_row4_col4\" class=\"data row4 col4\" >10274.5</td>\n      <td id=\"T_7b503_row4_col5\" class=\"data row4 col5\" >12251.0</td>\n      <td id=\"T_7b503_row4_col6\" class=\"data row4 col6\" >873.0</td>\n      <td id=\"T_7b503_row4_col7\" class=\"data row4 col7\" >1138.0</td>\n      <td id=\"T_7b503_row4_col8\" class=\"data row4 col8\" >4259.0</td>\n      <td id=\"T_7b503_row4_col9\" class=\"data row4 col9\" >7411.0</td>\n      <td id=\"T_7b503_row4_col10\" class=\"data row4 col10\" >3169.0</td>\n      <td id=\"T_7b503_row4_col11\" class=\"data row4 col11\" >3551.5</td>\n      <td id=\"T_7b503_row4_col12\" class=\"data row4 col12\" >297.5</td>\n      <td id=\"T_7b503_row4_col13\" class=\"data row4 col13\" >345.0</td>\n    </tr>\n    <tr>\n      <th id=\"T_7b503_level0_row5\" class=\"row_heading level0 row5\" >Zeugma-1PT</th>\n      <td id=\"T_7b503_row5_col0\" class=\"data row5 col0\" >828.0</td>\n      <td id=\"T_7b503_row5_col1\" class=\"data row5 col1\" >909.5</td>\n      <td id=\"T_7b503_row5_col2\" class=\"data row5 col2\" >1489.0</td>\n      <td id=\"T_7b503_row5_col3\" class=\"data row5 col3\" >1917.0</td>\n      <td id=\"T_7b503_row5_col4\" class=\"data row5 col4\" >10237.5</td>\n      <td id=\"T_7b503_row5_col5\" class=\"data row5 col5\" >12153.5</td>\n      <td id=\"T_7b503_row5_col6\" class=\"data row5 col6\" >855.5</td>\n      <td id=\"T_7b503_row5_col7\" class=\"data row5 col7\" >1138.0</td>\n      <td id=\"T_7b503_row5_col8\" class=\"data row5 col8\" >4166.0</td>\n      <td id=\"T_7b503_row5_col9\" class=\"data row5 col9\" >7369.5</td>\n      <td id=\"T_7b503_row5_col10\" class=\"data row5 col10\" >3169.0</td>\n      <td id=\"T_7b503_row5_col11\" class=\"data row5 col11\" >3572.5</td>\n      <td id=\"T_7b503_row5_col12\" class=\"data row5 col12\" >294.0</td>\n      <td id=\"T_7b503_row5_col13\" class=\"data row5 col13\" >344.0</td>\n    </tr>\n    <tr>\n      <th id=\"T_7b503_level0_row6\" class=\"row_heading level0 row6\" >Zeugma-2PT</th>\n      <td id=\"T_7b503_row6_col0\" class=\"data row6 col0\" >819.5</td>\n      <td id=\"T_7b503_row6_col1\" class=\"data row6 col1\" >910.0</td>\n      <td id=\"T_7b503_row6_col2\" class=\"data row6 col2\" >1472.0</td>\n      <td id=\"T_7b503_row6_col3\" class=\"data row6 col3\" >1915.0</td>\n      <td id=\"T_7b503_row6_col4\" class=\"data row6 col4\" >10284.0</td>\n      <td id=\"T_7b503_row6_col5\" class=\"data row6 col5\" >12038.0</td>\n      <td id=\"T_7b503_row6_col6\" class=\"data row6 col6\" >797.0</td>\n      <td id=\"T_7b503_row6_col7\" class=\"data row6 col7\" >1134.0</td>\n      <td id=\"T_7b503_row6_col8\" class=\"data row6 col8\" >3962.5</td>\n      <td id=\"T_7b503_row6_col9\" class=\"data row6 col9\" >7310.0</td>\n      <td id=\"T_7b503_row6_col10\" class=\"data row6 col10\" >3143.0</td>\n      <td id=\"T_7b503_row6_col11\" class=\"data row6 col11\" >3549.0</td>\n      <td id=\"T_7b503_row6_col12\" class=\"data row6 col12\" >291.0</td>\n      <td id=\"T_7b503_row6_col13\" class=\"data row6 col13\" >341.5</td>\n    </tr>\n    <tr>\n      <th id=\"T_7b503_level0_row7\" class=\"row_heading level0 row7\" >Zeugma-Linked</th>\n      <td id=\"T_7b503_row7_col0\" class=\"data row7 col0\" >845.5</td>\n      <td id=\"T_7b503_row7_col1\" class=\"data row7 col1\" >911.5</td>\n      <td id=\"T_7b503_row7_col2\" class=\"data row7 col2\" >1541.5</td>\n      <td id=\"T_7b503_row7_col3\" class=\"data row7 col3\" >1959.0</td>\n      <td id=\"T_7b503_row7_col4\" class=\"data row7 col4\" >10395.5</td>\n      <td id=\"T_7b503_row7_col5\" class=\"data row7 col5\" >12709.0</td>\n      <td id=\"T_7b503_row7_col6\" class=\"data row7 col6\" >906.0</td>\n      <td id=\"T_7b503_row7_col7\" class=\"data row7 col7\" >1138.0</td>\n      <td id=\"T_7b503_row7_col8\" class=\"data row7 col8\" >5568.5</td>\n      <td id=\"T_7b503_row7_col9\" class=\"data row7 col9\" >7654.0</td>\n      <td id=\"T_7b503_row7_col10\" class=\"data row7 col10\" >3233.5</td>\n      <td id=\"T_7b503_row7_col11\" class=\"data row7 col11\" >3703.0</td>\n      <td id=\"T_7b503_row7_col12\" class=\"data row7 col12\" >295.5</td>\n      <td id=\"T_7b503_row7_col13\" class=\"data row7 col13\" >345.0</td>\n    </tr>\n  </tbody>\n</table>\n"
     },
     "metadata": {},
     "output_type": "display_data"
    },
    {
     "name": "stdout",
     "output_type": "stream",
     "text": [
      "\\begin{tabular}{lrrrrrrrrrrrrrr}\n",
      "\\toprule\n",
      "Subject & \\multicolumn{2}{c}{Ant} & \\multicolumn{2}{c}{Bcel} & \\multicolumn{2}{c}{Closure} & \\multicolumn{2}{c}{Maven} & \\multicolumn{2}{c}{Nashorn} & \\multicolumn{2}{c}{Rhino} & \\multicolumn{2}{c}{Tomcat} \\\\\n",
      " & 5M & 3H & 5M & 3H & 5M & 3H & 5M & 3H & 5M & 3H & 5M & 3H & 5M & 3H \\\\\n",
      "Fuzzer &  &  &  &  &  &  &  &  &  &  &  &  &  &  \\\\\n",
      "\\midrule\n",
      "BeDivFuzz-Simple & \\color{red} 755.0 & \\color{red} 899.0 & \\color{red} 1435.5 & \\color{red} 1846.5 & \\color{red} 9328.0 & \\color{red} 11863.5 & \\color{red} 590.5 & \\color{red} 738.0 & \\color{red} 3008.5 & \\color{red} 3319.5 & \\color{red} 2952.0 & \\color{red} 3235.5 & \\color{red} 274.5 & 341.0 \\\\\n",
      "BeDivFuzz-Structure & \\color{red} 786.5 & \\color{red} 896.5 & \\color{red} 1412.5 & \\color{red} 1876.5 & \\color{red} 9336.5 & \\color{red} 11904.5 & \\color{red} 578.5 & \\color{red} 641.5 & \\color{red} 2993.5 & \\color{red} 3092.0 & \\color{red} 2915.5 & \\color{red} 3237.0 & \\color{red} 161.0 & \\color{red} 242.5 \\\\\n",
      "RLCheck & \\color{red} 769.0 & \\color{red} 889.0 & --- & --- & \\color{red} 8262.5 & \\color{red} 9480.5 & \\color{red} 579.0 & \\color{red} 663.0 & \\color{red} 1298.0 & \\color{red} 1298.0 & \\color{red} 2627.0 & \\color{red} 2730.0 & {\\cellcolor{yellow}} 299.0 & \\color{red} 338.0 \\\\\n",
      "Zest & 820.0 & {\\cellcolor{yellow}} \\color{red} 927.0 & 1516.5 & \\color{red} 1909.5 & \\color{red} 9782.5 & \\color{red} 12352.0 & \\color{red} 778.5 & \\color{red} 1098.5 & \\color{red} 2654.5 & \\color{red} 2717.0 & \\color{red} 3108.5 & \\color{red} 3408.0 & 295.0 & 340.0 \\\\\n",
      "Zeugma & 835.5 & 911.0 & 1480.5 & \\color{red} 1927.0 & 10274.5 & \\color{red} 12251.0 & 873.0 & {\\cellcolor{yellow}} 1138.0 & \\color{red} 4259.0 & \\color{red} 7411.0 & \\color{red} 3169.0 & \\color{red} 3551.5 & 297.5 & {\\cellcolor{yellow}} 345.0 \\\\\n",
      "Zeugma-1PT & 828.0 & 909.5 & 1489.0 & \\color{red} 1917.0 & \\color{red} 10237.5 & \\color{red} 12153.5 & 855.5 & {\\cellcolor{yellow}} 1138.0 & \\color{red} 4166.0 & \\color{red} 7369.5 & \\color{red} 3169.0 & \\color{red} 3572.5 & 294.0 & 344.0 \\\\\n",
      "Zeugma-2PT & 819.5 & 910.0 & \\color{red} 1472.0 & \\color{red} 1915.0 & \\color{red} 10284.0 & \\color{red} 12038.0 & \\color{red} 797.0 & \\color{red} 1134.0 & \\color{red} 3962.5 & \\color{red} 7310.0 & \\color{red} 3143.0 & \\color{red} 3549.0 & 291.0 & \\color{red} 341.5 \\\\\n",
      "Zeugma-Linked & {\\cellcolor{yellow}} 845.5 & 911.5 & {\\cellcolor{yellow}} 1541.5 & {\\cellcolor{yellow}} 1959.0 & {\\cellcolor{yellow}} 10395.5 & {\\cellcolor{yellow}} 12709.0 & {\\cellcolor{yellow}} 906.0 & {\\cellcolor{yellow}} 1138.0 & {\\cellcolor{yellow}} 5568.5 & {\\cellcolor{yellow}} 7654.0 & {\\cellcolor{yellow}} 3233.5 & {\\cellcolor{yellow}} 3703.0 & 295.5 & {\\cellcolor{yellow}} 345.0 \\\\\n",
      "\\bottomrule\n",
      "\\end{tabular}\n",
      "\n"
     ]
    }
   ],
   "source": [
    "import pandas as pd\n",
    "\n",
    "import extract_coverage\n",
    "import report_util\n",
    "import tables\n",
    "\n",
    "\n",
    "def create_rows(data, time, subject):\n",
    "    data = data[data['time'] == time]\n",
    "    data = data[data['subject'] == subject]\n",
    "    fuzzers = sorted(data['fuzzer'].unique())\n",
    "    rows = []\n",
    "    values1 = data[data['fuzzer'] == 'Zeugma-Linked']['covered_branches']\n",
    "    significance_level = 0.05 / (len(fuzzers) * (len(fuzzers) - 1) / 2)\n",
    "    for fuzzer in fuzzers:\n",
    "        values2 = data[data['fuzzer'] == fuzzer]['covered_branches']\n",
    "        sig = 'color: red;' if report_util.mann_whitney(values1, values2) < significance_level else ''\n",
    "        rows.append([time, subject, fuzzer, values2.median(), sig])\n",
    "    return pd.DataFrame(rows, columns=['time', 'subject', 'fuzzer', 'median', 'sig'])\n",
    "\n",
    "\n",
    "def create_sig_table(data, times):\n",
    "    return pd.concat(\n",
    "        [create_rows(data, time, subject) for time in times for subject in sorted(data['subject'].unique())])\n",
    "\n",
    "\n",
    "times = [pd.to_timedelta(5, 'm'), pd.to_timedelta(3, 'h')]\n",
    "coverage = extract_coverage.read_coverage_csv('../data/coverage.csv')\n",
    "table = create_sig_table(coverage, times)\n",
    "medians = tables.pivot(table, 'subject', 'fuzzer', 'median')\n",
    "sigs = tables.pivot(table, 'subject', 'fuzzer', 'sig')\n",
    "styler = tables.style_table(medians, precision=1, axis=0).apply(lambda _: sigs, axis=None)\n",
    "display(styler)\n",
    "print(styler.to_latex(multicol_align='c', hrules=True, multirow_align='t', convert_css=True))"
   ]
  }
 ],
 "metadata": {
  "kernelspec": {
   "display_name": "Python 3",
   "language": "python",
   "name": "python3"
  },
  "language_info": {
   "codemirror_mode": {
    "name": "ipython",
    "version": 2
   },
   "file_extension": ".py",
   "mimetype": "text/x-python",
   "name": "python",
   "nbconvert_exporter": "python",
   "pygments_lexer": "ipython2",
   "version": "2.7.6"
  }
 },
 "nbformat": 4,
 "nbformat_minor": 0
}
