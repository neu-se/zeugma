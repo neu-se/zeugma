{
 "cells": [
  {
   "cell_type": "code",
   "execution_count": 2,
   "metadata": {
    "collapsed": true,
    "ExecuteTime": {
     "end_time": "2023-07-10T19:55:57.827606835Z",
     "start_time": "2023-07-10T19:55:57.037635588Z"
    }
   },
   "outputs": [],
   "source": [
    "\n",
    "\n",
    "import pandas as pd\n",
    "\n",
    "import report_util\n",
    "import tables\n",
    "\n",
    "heritability = tables.create_heritability_table('../data/heritability.csv')"
   ]
  },
  {
   "cell_type": "code",
   "execution_count": 3,
   "outputs": [
    {
     "data": {
      "text/plain": "Crossover Operator    Two Point                 One Point              Linked  \\\nMetric                       IR           HY           IR           HY     IR   \nSubject                                                                         \nAnt                 color: red;  color: red;  color: red;  color: red;          \nBcel                color: red;  color: red;  color: red;  color: red;          \nClosure             color: red;               color: red;  color: red;          \nMaven               color: red;               color: red;                       \nNashorn             color: red;               color: red;  color: red;          \nRhino               color: red;               color: red;                       \nTomcat              color: red;               color: red;                       \n\nCrossover Operator     \nMetric             HY  \nSubject                \nAnt                    \nBcel                   \nClosure                \nMaven                  \nNashorn                \nRhino                  \nTomcat                 ",
      "text/html": "<div>\n<style scoped>\n    .dataframe tbody tr th:only-of-type {\n        vertical-align: middle;\n    }\n\n    .dataframe tbody tr th {\n        vertical-align: top;\n    }\n\n    .dataframe thead tr th {\n        text-align: left;\n    }\n\n    .dataframe thead tr:last-of-type th {\n        text-align: right;\n    }\n</style>\n<table border=\"1\" class=\"dataframe\">\n  <thead>\n    <tr>\n      <th>Crossover Operator</th>\n      <th colspan=\"2\" halign=\"left\">Two Point</th>\n      <th colspan=\"2\" halign=\"left\">One Point</th>\n      <th colspan=\"2\" halign=\"left\">Linked</th>\n    </tr>\n    <tr>\n      <th>Metric</th>\n      <th>IR</th>\n      <th>HY</th>\n      <th>IR</th>\n      <th>HY</th>\n      <th>IR</th>\n      <th>HY</th>\n    </tr>\n    <tr>\n      <th>Subject</th>\n      <th></th>\n      <th></th>\n      <th></th>\n      <th></th>\n      <th></th>\n      <th></th>\n    </tr>\n  </thead>\n  <tbody>\n    <tr>\n      <th>Ant</th>\n      <td>color: red;</td>\n      <td>color: red;</td>\n      <td>color: red;</td>\n      <td>color: red;</td>\n      <td></td>\n      <td></td>\n    </tr>\n    <tr>\n      <th>Bcel</th>\n      <td>color: red;</td>\n      <td>color: red;</td>\n      <td>color: red;</td>\n      <td>color: red;</td>\n      <td></td>\n      <td></td>\n    </tr>\n    <tr>\n      <th>Closure</th>\n      <td>color: red;</td>\n      <td></td>\n      <td>color: red;</td>\n      <td>color: red;</td>\n      <td></td>\n      <td></td>\n    </tr>\n    <tr>\n      <th>Maven</th>\n      <td>color: red;</td>\n      <td></td>\n      <td>color: red;</td>\n      <td></td>\n      <td></td>\n      <td></td>\n    </tr>\n    <tr>\n      <th>Nashorn</th>\n      <td>color: red;</td>\n      <td></td>\n      <td>color: red;</td>\n      <td>color: red;</td>\n      <td></td>\n      <td></td>\n    </tr>\n    <tr>\n      <th>Rhino</th>\n      <td>color: red;</td>\n      <td></td>\n      <td>color: red;</td>\n      <td></td>\n      <td></td>\n      <td></td>\n    </tr>\n    <tr>\n      <th>Tomcat</th>\n      <td>color: red;</td>\n      <td></td>\n      <td>color: red;</td>\n      <td></td>\n      <td></td>\n      <td></td>\n    </tr>\n  </tbody>\n</table>\n</div>"
     },
     "metadata": {},
     "output_type": "display_data"
    }
   ],
   "source": [
    "df = pd.read_csv('../data/heritability.csv')\n",
    "df.columns = df.columns.map(lambda x: x.replace('_', ' '))\n",
    "rows = []\n",
    "level = 0.05 / 3\n",
    "for subject in df['subject'].unique():\n",
    "    selected = df[df['subject'] == subject]\n",
    "    for operator in df['crossover operator'].unique():\n",
    "        selected2 = selected[selected['crossover operator'] == operator]\n",
    "        selected1 = selected[selected['crossover operator'] == 'Linked']\n",
    "        for metric, name, f in [('inheritance rate', 'IR', report_util.mann_whitney),\n",
    "                                ('hybrid', 'HY', report_util.fisher_exact)]:\n",
    "            values2 = selected2[metric]\n",
    "            values1 = selected1[metric]\n",
    "            p = f(values1, values2)\n",
    "            rows.append([operator, subject, name, 'color: red;' if p < level else ''])\n",
    "sigs = pd.DataFrame(rows, columns=['Crossover Operator', 'Subject', 'Metric', 'Value']) \\\n",
    "    .pivot(index=['Subject'], values=['Value'], columns=['Crossover Operator', 'Metric']) \\\n",
    "    .reorder_levels(axis=1, order=['Crossover Operator', 'Metric', None]) \\\n",
    "    .droplevel(2, axis=1)\n",
    "display(sigs)"
   ],
   "metadata": {
    "collapsed": false,
    "ExecuteTime": {
     "end_time": "2023-07-10T19:55:58.266845137Z",
     "start_time": "2023-07-10T19:55:57.832121069Z"
    }
   }
  },
  {
   "cell_type": "code",
   "execution_count": 4,
   "outputs": [
    {
     "data": {
      "text/plain": "<pandas.io.formats.style.Styler at 0x7f0339c28f70>",
      "text/html": "<style type=\"text/css\">\n#T_b4285_row0_col1, #T_b4285_row2_col0 {\n  background-color: yellow;\n}\n#T_b4285_row0_col2, #T_b4285_row0_col3, #T_b4285_row0_col4, #T_b4285_row0_col5, #T_b4285_row1_col2, #T_b4285_row1_col3, #T_b4285_row1_col5, #T_b4285_row2_col3, #T_b4285_row2_col5, #T_b4285_row4_col2, #T_b4285_row4_col3, #T_b4285_row4_col5, #T_b4285_row5_col3, #T_b4285_row5_col5, #T_b4285_row6_col3, #T_b4285_row6_col5 {\n  color: red;\n}\n#T_b4285_row1_col4, #T_b4285_row2_col2, #T_b4285_row3_col3, #T_b4285_row3_col5 {\n  background-color: yellow;\n  color: red;\n}\n</style>\n<table id=\"T_b4285\">\n  <thead>\n    <tr>\n      <th class=\"blank level0\" >&nbsp;</th>\n      <th id=\"T_b4285_level0_col0\" class=\"col_heading level0 col0\" colspan=\"2\">Linked</th>\n      <th id=\"T_b4285_level0_col2\" class=\"col_heading level0 col2\" colspan=\"2\">One Point</th>\n      <th id=\"T_b4285_level0_col4\" class=\"col_heading level0 col4\" colspan=\"2\">Two Point</th>\n    </tr>\n    <tr>\n      <th class=\"blank level1\" >&nbsp;</th>\n      <th id=\"T_b4285_level1_col0\" class=\"col_heading level1 col0\" >HY</th>\n      <th id=\"T_b4285_level1_col1\" class=\"col_heading level1 col1\" >IR</th>\n      <th id=\"T_b4285_level1_col2\" class=\"col_heading level1 col2\" >HY</th>\n      <th id=\"T_b4285_level1_col3\" class=\"col_heading level1 col3\" >IR</th>\n      <th id=\"T_b4285_level1_col4\" class=\"col_heading level1 col4\" >HY</th>\n      <th id=\"T_b4285_level1_col5\" class=\"col_heading level1 col5\" >IR</th>\n    </tr>\n    <tr>\n      <th class=\"index_name level0\" >Subject</th>\n      <th class=\"blank col0\" >&nbsp;</th>\n      <th class=\"blank col1\" >&nbsp;</th>\n      <th class=\"blank col2\" >&nbsp;</th>\n      <th class=\"blank col3\" >&nbsp;</th>\n      <th class=\"blank col4\" >&nbsp;</th>\n      <th class=\"blank col5\" >&nbsp;</th>\n    </tr>\n  </thead>\n  <tbody>\n    <tr>\n      <th id=\"T_b4285_level0_row0\" class=\"row_heading level0 row0\" >Ant</th>\n      <td id=\"T_b4285_row0_col0\" class=\"data row0 col0\" >0.561</td>\n      <td id=\"T_b4285_row0_col1\" class=\"data row0 col1\" >0.923</td>\n      <td id=\"T_b4285_row0_col2\" class=\"data row0 col2\" >0.459</td>\n      <td id=\"T_b4285_row0_col3\" class=\"data row0 col3\" >0.124</td>\n      <td id=\"T_b4285_row0_col4\" class=\"data row0 col4\" >0.493</td>\n      <td id=\"T_b4285_row0_col5\" class=\"data row0 col5\" >0.069</td>\n    </tr>\n    <tr>\n      <th id=\"T_b4285_level0_row1\" class=\"row_heading level0 row1\" >Bcel</th>\n      <td id=\"T_b4285_row1_col0\" class=\"data row1 col0\" >0.283</td>\n      <td id=\"T_b4285_row1_col1\" class=\"data row1 col1\" >0.512</td>\n      <td id=\"T_b4285_row1_col2\" class=\"data row1 col2\" >0.660</td>\n      <td id=\"T_b4285_row1_col3\" class=\"data row1 col3\" >0.347</td>\n      <td id=\"T_b4285_row1_col4\" class=\"data row1 col4\" >0.756</td>\n      <td id=\"T_b4285_row1_col5\" class=\"data row1 col5\" >0.286</td>\n    </tr>\n    <tr>\n      <th id=\"T_b4285_level0_row2\" class=\"row_heading level0 row2\" >Closure</th>\n      <td id=\"T_b4285_row2_col0\" class=\"data row2 col0\" >0.742</td>\n      <td id=\"T_b4285_row2_col1\" class=\"data row2 col1\" >0.717</td>\n      <td id=\"T_b4285_row2_col2\" class=\"data row2 col2\" >0.661</td>\n      <td id=\"T_b4285_row2_col3\" class=\"data row2 col3\" >0.101</td>\n      <td id=\"T_b4285_row2_col4\" class=\"data row2 col4\" >0.712</td>\n      <td id=\"T_b4285_row2_col5\" class=\"data row2 col5\" >0.094</td>\n    </tr>\n    <tr>\n      <th id=\"T_b4285_level0_row3\" class=\"row_heading level0 row3\" >Maven</th>\n      <td id=\"T_b4285_row3_col0\" class=\"data row3 col0\" >0.446</td>\n      <td id=\"T_b4285_row3_col1\" class=\"data row3 col1\" >0.589</td>\n      <td id=\"T_b4285_row3_col2\" class=\"data row3 col2\" >0.404</td>\n      <td id=\"T_b4285_row3_col3\" class=\"data row3 col3\" >0.497</td>\n      <td id=\"T_b4285_row3_col4\" class=\"data row3 col4\" >0.399</td>\n      <td id=\"T_b4285_row3_col5\" class=\"data row3 col5\" >0.453</td>\n    </tr>\n    <tr>\n      <th id=\"T_b4285_level0_row4\" class=\"row_heading level0 row4\" >Nashorn</th>\n      <td id=\"T_b4285_row4_col0\" class=\"data row4 col0\" >0.622</td>\n      <td id=\"T_b4285_row4_col1\" class=\"data row4 col1\" >0.646</td>\n      <td id=\"T_b4285_row4_col2\" class=\"data row4 col2\" >0.548</td>\n      <td id=\"T_b4285_row4_col3\" class=\"data row4 col3\" >0.117</td>\n      <td id=\"T_b4285_row4_col4\" class=\"data row4 col4\" >0.591</td>\n      <td id=\"T_b4285_row4_col5\" class=\"data row4 col5\" >0.132</td>\n    </tr>\n    <tr>\n      <th id=\"T_b4285_level0_row5\" class=\"row_heading level0 row5\" >Rhino</th>\n      <td id=\"T_b4285_row5_col0\" class=\"data row5 col0\" >0.611</td>\n      <td id=\"T_b4285_row5_col1\" class=\"data row5 col1\" >0.502</td>\n      <td id=\"T_b4285_row5_col2\" class=\"data row5 col2\" >0.599</td>\n      <td id=\"T_b4285_row5_col3\" class=\"data row5 col3\" >0.263</td>\n      <td id=\"T_b4285_row5_col4\" class=\"data row5 col4\" >0.643</td>\n      <td id=\"T_b4285_row5_col5\" class=\"data row5 col5\" >0.255</td>\n    </tr>\n    <tr>\n      <th id=\"T_b4285_level0_row6\" class=\"row_heading level0 row6\" >Tomcat</th>\n      <td id=\"T_b4285_row6_col0\" class=\"data row6 col0\" >0.322</td>\n      <td id=\"T_b4285_row6_col1\" class=\"data row6 col1\" >0.775</td>\n      <td id=\"T_b4285_row6_col2\" class=\"data row6 col2\" >0.350</td>\n      <td id=\"T_b4285_row6_col3\" class=\"data row6 col3\" >0.276</td>\n      <td id=\"T_b4285_row6_col4\" class=\"data row6 col4\" >0.328</td>\n      <td id=\"T_b4285_row6_col5\" class=\"data row6 col5\" >0.279</td>\n    </tr>\n  </tbody>\n</table>\n"
     },
     "metadata": {},
     "output_type": "display_data"
    },
    {
     "name": "stdout",
     "output_type": "stream",
     "text": [
      "\\begin{tabular}{lrrrrrr}\n",
      "\\toprule\n",
      " & \\multicolumn{2}{c}{Linked} & \\multicolumn{2}{c}{One Point} & \\multicolumn{2}{c}{Two Point} \\\\\n",
      " & HY & IR & HY & IR & HY & IR \\\\\n",
      "Subject &  &  &  &  &  &  \\\\\n",
      "\\midrule\n",
      "Ant & 0.561 & {\\cellcolor{yellow}} 0.923 & \\color{red} 0.459 & \\color{red} 0.124 & \\color{red} 0.493 & \\color{red} 0.069 \\\\\n",
      "Bcel & 0.283 & 0.512 & \\color{red} 0.660 & \\color{red} 0.347 & {\\cellcolor{yellow}} \\color{red} 0.756 & \\color{red} 0.286 \\\\\n",
      "Closure & {\\cellcolor{yellow}} 0.742 & 0.717 & {\\cellcolor{yellow}} \\color{red} 0.661 & \\color{red} 0.101 & 0.712 & \\color{red} 0.094 \\\\\n",
      "Maven & 0.446 & 0.589 & 0.404 & {\\cellcolor{yellow}} \\color{red} 0.497 & 0.399 & {\\cellcolor{yellow}} \\color{red} 0.453 \\\\\n",
      "Nashorn & 0.622 & 0.646 & \\color{red} 0.548 & \\color{red} 0.117 & 0.591 & \\color{red} 0.132 \\\\\n",
      "Rhino & 0.611 & 0.502 & 0.599 & \\color{red} 0.263 & 0.643 & \\color{red} 0.255 \\\\\n",
      "Tomcat & 0.322 & 0.775 & 0.350 & \\color{red} 0.276 & 0.328 & \\color{red} 0.279 \\\\\n",
      "\\bottomrule\n",
      "\\end{tabular}\n",
      "\n"
     ]
    }
   ],
   "source": [
    "styler = tables.style_table(heritability, axis=0) \\\n",
    "    .apply(lambda _: sigs, axis=None)\n",
    "display(styler)\n",
    "print(styler.to_latex(multicol_align='c', hrules=True, multirow_align='t', convert_css=True))"
   ],
   "metadata": {
    "collapsed": false,
    "ExecuteTime": {
     "end_time": "2023-07-10T19:55:58.358574087Z",
     "start_time": "2023-07-10T19:55:58.269551859Z"
    }
   }
  }
 ],
 "metadata": {
  "kernelspec": {
   "display_name": "Python 3",
   "language": "python",
   "name": "python3"
  },
  "language_info": {
   "codemirror_mode": {
    "name": "ipython",
    "version": 2
   },
   "file_extension": ".py",
   "mimetype": "text/x-python",
   "name": "python",
   "nbconvert_exporter": "python",
   "pygments_lexer": "ipython2",
   "version": "2.7.6"
  }
 },
 "nbformat": 4,
 "nbformat_minor": 0
}
