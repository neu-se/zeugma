{
 "cells": [
  {
   "cell_type": "code",
   "execution_count": 1,
   "metadata": {
    "collapsed": true,
    "ExecuteTime": {
     "end_time": "2023-07-03T18:08:13.422247266Z",
     "start_time": "2023-07-03T18:08:12.762864991Z"
    }
   },
   "outputs": [
    {
     "data": {
      "text/plain": "   campaign_id      fuzzer subject defect                   time\n0           10        Zest    Bcel     B0 0 days 00:42:48.816000\n1          100  Zeugma-1PT   Rhino     R0 0 days 01:34:51.614000\n2          100  Zeugma-1PT   Rhino     R1 0 days 00:44:59.002000\n3          100  Zeugma-1PT   Rhino     R2 0 days 00:49:16.492000\n4          100  Zeugma-1PT   Rhino     R3 0 days 00:00:13.996000",
      "text/html": "<div>\n<style scoped>\n    .dataframe tbody tr th:only-of-type {\n        vertical-align: middle;\n    }\n\n    .dataframe tbody tr th {\n        vertical-align: top;\n    }\n\n    .dataframe thead th {\n        text-align: right;\n    }\n</style>\n<table border=\"1\" class=\"dataframe\">\n  <thead>\n    <tr style=\"text-align: right;\">\n      <th></th>\n      <th>campaign_id</th>\n      <th>fuzzer</th>\n      <th>subject</th>\n      <th>defect</th>\n      <th>time</th>\n    </tr>\n  </thead>\n  <tbody>\n    <tr>\n      <th>0</th>\n      <td>10</td>\n      <td>Zest</td>\n      <td>Bcel</td>\n      <td>B0</td>\n      <td>0 days 00:42:48.816000</td>\n    </tr>\n    <tr>\n      <th>1</th>\n      <td>100</td>\n      <td>Zeugma-1PT</td>\n      <td>Rhino</td>\n      <td>R0</td>\n      <td>0 days 01:34:51.614000</td>\n    </tr>\n    <tr>\n      <th>2</th>\n      <td>100</td>\n      <td>Zeugma-1PT</td>\n      <td>Rhino</td>\n      <td>R1</td>\n      <td>0 days 00:44:59.002000</td>\n    </tr>\n    <tr>\n      <th>3</th>\n      <td>100</td>\n      <td>Zeugma-1PT</td>\n      <td>Rhino</td>\n      <td>R2</td>\n      <td>0 days 00:49:16.492000</td>\n    </tr>\n    <tr>\n      <th>4</th>\n      <td>100</td>\n      <td>Zeugma-1PT</td>\n      <td>Rhino</td>\n      <td>R3</td>\n      <td>0 days 00:00:13.996000</td>\n    </tr>\n  </tbody>\n</table>\n</div>"
     },
     "execution_count": 1,
     "metadata": {},
     "output_type": "execute_result"
    }
   ],
   "source": [
    "import pandas as pd\n",
    "\n",
    "import tables\n",
    "\n",
    "times = [pd.to_timedelta(5, 'm'), pd.to_timedelta(3, 'h')]\n",
    "df = pd.read_csv('../data/first_detection_times.csv')\n",
    "df['time'] = pd.to_timedelta(df['time'])\n",
    "df.head()"
   ]
  },
  {
   "cell_type": "code",
   "execution_count": 2,
   "outputs": [
    {
     "data": {
      "text/plain": "   campaign_id               fuzzer subject  detected            time\n0            8     BeDivFuzz-Simple    Bcel         0 0 days 00:05:00\n1            9  BeDivFuzz-Structure    Bcel         0 0 days 00:05:00\n2           10                 Zest    Bcel         0 0 days 00:05:00\n3           11        Zeugma-Linked    Bcel         1 0 days 00:05:00\n4           12               Zeugma    Bcel         0 0 days 00:05:00",
      "text/html": "<div>\n<style scoped>\n    .dataframe tbody tr th:only-of-type {\n        vertical-align: middle;\n    }\n\n    .dataframe tbody tr th {\n        vertical-align: top;\n    }\n\n    .dataframe thead th {\n        text-align: right;\n    }\n</style>\n<table border=\"1\" class=\"dataframe\">\n  <thead>\n    <tr style=\"text-align: right;\">\n      <th></th>\n      <th>campaign_id</th>\n      <th>fuzzer</th>\n      <th>subject</th>\n      <th>detected</th>\n      <th>time</th>\n    </tr>\n  </thead>\n  <tbody>\n    <tr>\n      <th>0</th>\n      <td>8</td>\n      <td>BeDivFuzz-Simple</td>\n      <td>Bcel</td>\n      <td>0</td>\n      <td>0 days 00:05:00</td>\n    </tr>\n    <tr>\n      <th>1</th>\n      <td>9</td>\n      <td>BeDivFuzz-Structure</td>\n      <td>Bcel</td>\n      <td>0</td>\n      <td>0 days 00:05:00</td>\n    </tr>\n    <tr>\n      <th>2</th>\n      <td>10</td>\n      <td>Zest</td>\n      <td>Bcel</td>\n      <td>0</td>\n      <td>0 days 00:05:00</td>\n    </tr>\n    <tr>\n      <th>3</th>\n      <td>11</td>\n      <td>Zeugma-Linked</td>\n      <td>Bcel</td>\n      <td>1</td>\n      <td>0 days 00:05:00</td>\n    </tr>\n    <tr>\n      <th>4</th>\n      <td>12</td>\n      <td>Zeugma</td>\n      <td>Bcel</td>\n      <td>0</td>\n      <td>0 days 00:05:00</td>\n    </tr>\n  </tbody>\n</table>\n</div>"
     },
     "metadata": {},
     "output_type": "display_data"
    }
   ],
   "source": [
    "def create_detection_count_table(df, times):\n",
    "    elements = []\n",
    "    for time in times:\n",
    "        counts = df.groupby(['campaign_id', 'fuzzer', 'subject'])['time'] \\\n",
    "            .apply(lambda x: (x < time).sum()) \\\n",
    "            .reset_index(name='detected')\n",
    "        counts['time'] = time\n",
    "        elements.append(counts)\n",
    "    return pd.concat(elements)\n",
    "\n",
    "\n",
    "counts = create_detection_count_table(df, times)\n",
    "display(counts.head())"
   ],
   "metadata": {
    "collapsed": false,
    "ExecuteTime": {
     "end_time": "2023-07-03T18:08:13.750411952Z",
     "start_time": "2023-07-03T18:08:13.426020105Z"
    }
   }
  },
  {
   "cell_type": "code",
   "execution_count": 3,
   "outputs": [
    {
     "data": {
      "text/plain": "<pandas.io.formats.style.Styler at 0x7f07e1cb4ac0>",
      "text/html": "<style type=\"text/css\">\n#T_bdccd_row0_col0, #T_bdccd_row0_col1, #T_bdccd_row0_col4, #T_bdccd_row0_col6, #T_bdccd_row1_col0, #T_bdccd_row1_col1, #T_bdccd_row1_col4, #T_bdccd_row1_col6, #T_bdccd_row2_col4, #T_bdccd_row2_col6, #T_bdccd_row3_col0, #T_bdccd_row3_col1, #T_bdccd_row3_col4, #T_bdccd_row3_col6, #T_bdccd_row4_col0, #T_bdccd_row4_col1, #T_bdccd_row4_col2, #T_bdccd_row4_col4, #T_bdccd_row4_col6, #T_bdccd_row4_col7, #T_bdccd_row5_col0, #T_bdccd_row5_col1, #T_bdccd_row5_col4, #T_bdccd_row5_col6, #T_bdccd_row6_col0, #T_bdccd_row6_col1, #T_bdccd_row6_col2, #T_bdccd_row6_col4, #T_bdccd_row6_col6, #T_bdccd_row7_col0, #T_bdccd_row7_col1, #T_bdccd_row7_col2, #T_bdccd_row7_col3, #T_bdccd_row7_col4, #T_bdccd_row7_col5, #T_bdccd_row7_col6, #T_bdccd_row7_col7 {\n  background-color: yellow;\n}\n#T_bdccd_row0_col3, #T_bdccd_row0_col5, #T_bdccd_row0_col7, #T_bdccd_row1_col2, #T_bdccd_row1_col3, #T_bdccd_row1_col5, #T_bdccd_row1_col7, #T_bdccd_row2_col3, #T_bdccd_row2_col5, #T_bdccd_row2_col7, #T_bdccd_row3_col2, #T_bdccd_row3_col5, #T_bdccd_row3_col7, #T_bdccd_row4_col5, #T_bdccd_row5_col5, #T_bdccd_row6_col5 {\n  color: red;\n}\n</style>\n<table id=\"T_bdccd\">\n  <thead>\n    <tr>\n      <th class=\"index_name level0\" >Subject</th>\n      <th id=\"T_bdccd_level0_col0\" class=\"col_heading level0 col0\" colspan=\"2\">Bcel</th>\n      <th id=\"T_bdccd_level0_col2\" class=\"col_heading level0 col2\" colspan=\"2\">Closure</th>\n      <th id=\"T_bdccd_level0_col4\" class=\"col_heading level0 col4\" colspan=\"2\">Nashorn</th>\n      <th id=\"T_bdccd_level0_col6\" class=\"col_heading level0 col6\" colspan=\"2\">Rhino</th>\n    </tr>\n    <tr>\n      <th class=\"blank level1\" >&nbsp;</th>\n      <th id=\"T_bdccd_level1_col0\" class=\"col_heading level1 col0\" >5M</th>\n      <th id=\"T_bdccd_level1_col1\" class=\"col_heading level1 col1\" >3H</th>\n      <th id=\"T_bdccd_level1_col2\" class=\"col_heading level1 col2\" >5M</th>\n      <th id=\"T_bdccd_level1_col3\" class=\"col_heading level1 col3\" >3H</th>\n      <th id=\"T_bdccd_level1_col4\" class=\"col_heading level1 col4\" >5M</th>\n      <th id=\"T_bdccd_level1_col5\" class=\"col_heading level1 col5\" >3H</th>\n      <th id=\"T_bdccd_level1_col6\" class=\"col_heading level1 col6\" >5M</th>\n      <th id=\"T_bdccd_level1_col7\" class=\"col_heading level1 col7\" >3H</th>\n    </tr>\n    <tr>\n      <th class=\"index_name level0\" >Fuzzer</th>\n      <th class=\"blank col0\" >&nbsp;</th>\n      <th class=\"blank col1\" >&nbsp;</th>\n      <th class=\"blank col2\" >&nbsp;</th>\n      <th class=\"blank col3\" >&nbsp;</th>\n      <th class=\"blank col4\" >&nbsp;</th>\n      <th class=\"blank col5\" >&nbsp;</th>\n      <th class=\"blank col6\" >&nbsp;</th>\n      <th class=\"blank col7\" >&nbsp;</th>\n    </tr>\n  </thead>\n  <tbody>\n    <tr>\n      <th id=\"T_bdccd_level0_row0\" class=\"row_heading level0 row0\" >BeDivFuzz-Simple</th>\n      <td id=\"T_bdccd_row0_col0\" class=\"data row0 col0\" >0.0</td>\n      <td id=\"T_bdccd_row0_col1\" class=\"data row0 col1\" >1.0</td>\n      <td id=\"T_bdccd_row0_col2\" class=\"data row0 col2\" >0.0</td>\n      <td id=\"T_bdccd_row0_col3\" class=\"data row0 col3\" >1.0</td>\n      <td id=\"T_bdccd_row0_col4\" class=\"data row0 col4\" >0.0</td>\n      <td id=\"T_bdccd_row0_col5\" class=\"data row0 col5\" >0.0</td>\n      <td id=\"T_bdccd_row0_col6\" class=\"data row0 col6\" >1.0</td>\n      <td id=\"T_bdccd_row0_col7\" class=\"data row0 col7\" >1.0</td>\n    </tr>\n    <tr>\n      <th id=\"T_bdccd_level0_row1\" class=\"row_heading level0 row1\" >BeDivFuzz-Structure</th>\n      <td id=\"T_bdccd_row1_col0\" class=\"data row1 col0\" >0.0</td>\n      <td id=\"T_bdccd_row1_col1\" class=\"data row1 col1\" >1.0</td>\n      <td id=\"T_bdccd_row1_col2\" class=\"data row1 col2\" >0.0</td>\n      <td id=\"T_bdccd_row1_col3\" class=\"data row1 col3\" >1.0</td>\n      <td id=\"T_bdccd_row1_col4\" class=\"data row1 col4\" >0.0</td>\n      <td id=\"T_bdccd_row1_col5\" class=\"data row1 col5\" >0.0</td>\n      <td id=\"T_bdccd_row1_col6\" class=\"data row1 col6\" >1.0</td>\n      <td id=\"T_bdccd_row1_col7\" class=\"data row1 col7\" >2.0</td>\n    </tr>\n    <tr>\n      <th id=\"T_bdccd_level0_row2\" class=\"row_heading level0 row2\" >RLCheck</th>\n      <td id=\"T_bdccd_row2_col0\" class=\"data row2 col0\" >---</td>\n      <td id=\"T_bdccd_row2_col1\" class=\"data row2 col1\" >---</td>\n      <td id=\"T_bdccd_row2_col2\" class=\"data row2 col2\" >0.0</td>\n      <td id=\"T_bdccd_row2_col3\" class=\"data row2 col3\" >1.0</td>\n      <td id=\"T_bdccd_row2_col4\" class=\"data row2 col4\" >0.0</td>\n      <td id=\"T_bdccd_row2_col5\" class=\"data row2 col5\" >0.0</td>\n      <td id=\"T_bdccd_row2_col6\" class=\"data row2 col6\" >1.0</td>\n      <td id=\"T_bdccd_row2_col7\" class=\"data row2 col7\" >1.0</td>\n    </tr>\n    <tr>\n      <th id=\"T_bdccd_level0_row3\" class=\"row_heading level0 row3\" >Zest</th>\n      <td id=\"T_bdccd_row3_col0\" class=\"data row3 col0\" >0.0</td>\n      <td id=\"T_bdccd_row3_col1\" class=\"data row3 col1\" >1.0</td>\n      <td id=\"T_bdccd_row3_col2\" class=\"data row3 col2\" >0.0</td>\n      <td id=\"T_bdccd_row3_col3\" class=\"data row3 col3\" >1.0</td>\n      <td id=\"T_bdccd_row3_col4\" class=\"data row3 col4\" >0.0</td>\n      <td id=\"T_bdccd_row3_col5\" class=\"data row3 col5\" >0.0</td>\n      <td id=\"T_bdccd_row3_col6\" class=\"data row3 col6\" >1.0</td>\n      <td id=\"T_bdccd_row3_col7\" class=\"data row3 col7\" >2.0</td>\n    </tr>\n    <tr>\n      <th id=\"T_bdccd_level0_row4\" class=\"row_heading level0 row4\" >Zeugma</th>\n      <td id=\"T_bdccd_row4_col0\" class=\"data row4 col0\" >0.0</td>\n      <td id=\"T_bdccd_row4_col1\" class=\"data row4 col1\" >1.0</td>\n      <td id=\"T_bdccd_row4_col2\" class=\"data row4 col2\" >1.0</td>\n      <td id=\"T_bdccd_row4_col3\" class=\"data row4 col3\" >1.0</td>\n      <td id=\"T_bdccd_row4_col4\" class=\"data row4 col4\" >0.0</td>\n      <td id=\"T_bdccd_row4_col5\" class=\"data row4 col5\" >1.0</td>\n      <td id=\"T_bdccd_row4_col6\" class=\"data row4 col6\" >1.0</td>\n      <td id=\"T_bdccd_row4_col7\" class=\"data row4 col7\" >5.0</td>\n    </tr>\n    <tr>\n      <th id=\"T_bdccd_level0_row5\" class=\"row_heading level0 row5\" >Zeugma-1PT</th>\n      <td id=\"T_bdccd_row5_col0\" class=\"data row5 col0\" >0.0</td>\n      <td id=\"T_bdccd_row5_col1\" class=\"data row5 col1\" >1.0</td>\n      <td id=\"T_bdccd_row5_col2\" class=\"data row5 col2\" >0.5</td>\n      <td id=\"T_bdccd_row5_col3\" class=\"data row5 col3\" >1.0</td>\n      <td id=\"T_bdccd_row5_col4\" class=\"data row5 col4\" >0.0</td>\n      <td id=\"T_bdccd_row5_col5\" class=\"data row5 col5\" >0.0</td>\n      <td id=\"T_bdccd_row5_col6\" class=\"data row5 col6\" >1.0</td>\n      <td id=\"T_bdccd_row5_col7\" class=\"data row5 col7\" >4.0</td>\n    </tr>\n    <tr>\n      <th id=\"T_bdccd_level0_row6\" class=\"row_heading level0 row6\" >Zeugma-2PT</th>\n      <td id=\"T_bdccd_row6_col0\" class=\"data row6 col0\" >0.0</td>\n      <td id=\"T_bdccd_row6_col1\" class=\"data row6 col1\" >1.0</td>\n      <td id=\"T_bdccd_row6_col2\" class=\"data row6 col2\" >1.0</td>\n      <td id=\"T_bdccd_row6_col3\" class=\"data row6 col3\" >1.0</td>\n      <td id=\"T_bdccd_row6_col4\" class=\"data row6 col4\" >0.0</td>\n      <td id=\"T_bdccd_row6_col5\" class=\"data row6 col5\" >1.0</td>\n      <td id=\"T_bdccd_row6_col6\" class=\"data row6 col6\" >1.0</td>\n      <td id=\"T_bdccd_row6_col7\" class=\"data row6 col7\" >4.0</td>\n    </tr>\n    <tr>\n      <th id=\"T_bdccd_level0_row7\" class=\"row_heading level0 row7\" >Zeugma-Linked</th>\n      <td id=\"T_bdccd_row7_col0\" class=\"data row7 col0\" >0.0</td>\n      <td id=\"T_bdccd_row7_col1\" class=\"data row7 col1\" >1.0</td>\n      <td id=\"T_bdccd_row7_col2\" class=\"data row7 col2\" >1.0</td>\n      <td id=\"T_bdccd_row7_col3\" class=\"data row7 col3\" >2.0</td>\n      <td id=\"T_bdccd_row7_col4\" class=\"data row7 col4\" >0.0</td>\n      <td id=\"T_bdccd_row7_col5\" class=\"data row7 col5\" >1.5</td>\n      <td id=\"T_bdccd_row7_col6\" class=\"data row7 col6\" >1.0</td>\n      <td id=\"T_bdccd_row7_col7\" class=\"data row7 col7\" >5.0</td>\n    </tr>\n  </tbody>\n</table>\n"
     },
     "metadata": {},
     "output_type": "display_data"
    }
   ],
   "source": [
    "import report_util\n",
    "\n",
    "\n",
    "def select(data, time, subject):\n",
    "    data = data[data['time'] == time]\n",
    "    return data[data['subject'] == subject]\n",
    "\n",
    "\n",
    "def create_rows(data, value, target_fuzzer='Zeugma-Linked'):\n",
    "    fuzzers = sorted(data['fuzzer'].unique())\n",
    "    rows = []\n",
    "    values1 = data[data['fuzzer'] == target_fuzzer][value]\n",
    "    significance_level = 0.05 / (len(fuzzers) * (len(fuzzers) - 1) / 2)\n",
    "    for fuzzer in fuzzers:\n",
    "        values2 = data[data['fuzzer'] == fuzzer][value]\n",
    "        sig = 'color: red;' if report_util.mann_whitney(values1, values2) < significance_level else ''\n",
    "        rows.append([fuzzer, values2.median(), sig])\n",
    "    return pd.DataFrame(rows, columns=['fuzzer', 'value', 'sig'])\n",
    "\n",
    "\n",
    "def create_sig_table(data, value):\n",
    "    frames = []\n",
    "    for time, subject in data[['time', 'subject']].drop_duplicates().itertuples(index=False, name=None):\n",
    "        selected = select(data, time, subject)\n",
    "        frame = create_rows(selected, value)\n",
    "        frame['time'] = time\n",
    "        frame['subject'] = subject\n",
    "        frames.append(frame)\n",
    "    return pd.concat(frames)\n",
    "\n",
    "\n",
    "table = create_sig_table(counts, 'detected')\n",
    "medians = tables.pivot(table, 'subject', 'fuzzer', 'value')\n",
    "sigs = tables.pivot(table, 'subject', 'fuzzer', 'sig')\n",
    "styler = tables.style_table(medians, precision=1, axis=0).apply(lambda _: sigs, axis=None)\n",
    "display(styler)"
   ],
   "metadata": {
    "collapsed": false,
    "ExecuteTime": {
     "end_time": "2023-07-03T18:08:14.531337807Z",
     "start_time": "2023-07-03T18:08:13.757381566Z"
    }
   }
  },
  {
   "cell_type": "code",
   "execution_count": 4,
   "outputs": [
    {
     "name": "stdout",
     "output_type": "stream",
     "text": [
      "\\begin{tabular}{lrrrrrrrr}\n",
      "\\toprule\n",
      "Subject & \\multicolumn{2}{c}{Bcel} & \\multicolumn{2}{c}{Closure} & \\multicolumn{2}{c}{Nashorn} & \\multicolumn{2}{c}{Rhino} \\\\\n",
      " & 5M & 3H & 5M & 3H & 5M & 3H & 5M & 3H \\\\\n",
      "Fuzzer &  &  &  &  &  &  &  &  \\\\\n",
      "\\midrule\n",
      "BeDivFuzz-Simple & {\\cellcolor{yellow}} 0.0 & {\\cellcolor{yellow}} 1.0 & 0.0 & \\color{red} 1.0 & {\\cellcolor{yellow}} 0.0 & \\color{red} 0.0 & {\\cellcolor{yellow}} 1.0 & \\color{red} 1.0 \\\\\n",
      "BeDivFuzz-Structure & {\\cellcolor{yellow}} 0.0 & {\\cellcolor{yellow}} 1.0 & \\color{red} 0.0 & \\color{red} 1.0 & {\\cellcolor{yellow}} 0.0 & \\color{red} 0.0 & {\\cellcolor{yellow}} 1.0 & \\color{red} 2.0 \\\\\n",
      "RLCheck & --- & --- & 0.0 & \\color{red} 1.0 & {\\cellcolor{yellow}} 0.0 & \\color{red} 0.0 & {\\cellcolor{yellow}} 1.0 & \\color{red} 1.0 \\\\\n",
      "Zest & {\\cellcolor{yellow}} 0.0 & {\\cellcolor{yellow}} 1.0 & \\color{red} 0.0 & 1.0 & {\\cellcolor{yellow}} 0.0 & \\color{red} 0.0 & {\\cellcolor{yellow}} 1.0 & \\color{red} 2.0 \\\\\n",
      "Zeugma & {\\cellcolor{yellow}} 0.0 & {\\cellcolor{yellow}} 1.0 & {\\cellcolor{yellow}} 1.0 & 1.0 & {\\cellcolor{yellow}} 0.0 & \\color{red} 1.0 & {\\cellcolor{yellow}} 1.0 & {\\cellcolor{yellow}} 5.0 \\\\\n",
      "Zeugma-1PT & {\\cellcolor{yellow}} 0.0 & {\\cellcolor{yellow}} 1.0 & 0.5 & 1.0 & {\\cellcolor{yellow}} 0.0 & \\color{red} 0.0 & {\\cellcolor{yellow}} 1.0 & 4.0 \\\\\n",
      "Zeugma-2PT & {\\cellcolor{yellow}} 0.0 & {\\cellcolor{yellow}} 1.0 & {\\cellcolor{yellow}} 1.0 & 1.0 & {\\cellcolor{yellow}} 0.0 & \\color{red} 1.0 & {\\cellcolor{yellow}} 1.0 & 4.0 \\\\\n",
      "Zeugma-Linked & {\\cellcolor{yellow}} 0.0 & {\\cellcolor{yellow}} 1.0 & {\\cellcolor{yellow}} 1.0 & {\\cellcolor{yellow}} 2.0 & {\\cellcolor{yellow}} 0.0 & {\\cellcolor{yellow}} 1.5 & {\\cellcolor{yellow}} 1.0 & {\\cellcolor{yellow}} 5.0 \\\\\n",
      "\\bottomrule\n",
      "\\end{tabular}\n",
      "\n"
     ]
    }
   ],
   "source": [
    "print(styler.to_latex(multicol_align='c', hrules=True, multirow_align='t', convert_css=True))"
   ],
   "metadata": {
    "collapsed": false,
    "ExecuteTime": {
     "end_time": "2023-07-03T18:08:14.578182299Z",
     "start_time": "2023-07-03T18:08:14.544724123Z"
    }
   }
  }
 ],
 "metadata": {
  "kernelspec": {
   "display_name": "Python 3",
   "language": "python",
   "name": "python3"
  },
  "language_info": {
   "codemirror_mode": {
    "name": "ipython",
    "version": 2
   },
   "file_extension": ".py",
   "mimetype": "text/x-python",
   "name": "python",
   "nbconvert_exporter": "python",
   "pygments_lexer": "ipython2",
   "version": "2.7.6"
  }
 },
 "nbformat": 4,
 "nbformat_minor": 0
}
